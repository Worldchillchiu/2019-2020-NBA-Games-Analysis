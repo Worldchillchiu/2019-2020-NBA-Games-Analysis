{
 "cells": [
  {
   "cell_type": "markdown",
   "metadata": {
    "colab_type": "text",
    "id": "doz-_lVCzBXe"
   },
   "source": [
    "# Project Report"
   ]
  },
  {
   "cell_type": "markdown",
   "metadata": {
    "colab_type": "text",
    "id": "6Zka3dCO9H05"
   },
   "source": [
    "Group 20 (Lucasports):\n",
    "\n",
    "Benjamin Wang, I-Kai Teng, Yu-Hsi Chen, Po-Hsun Chiu"
   ]
  },
  {
   "cell_type": "markdown",
   "metadata": {
    "colab_type": "text",
    "id": "BRURREnlzLwd"
   },
   "source": [
    "### Project Overview <a id='section_id2'></a>"
   ]
  },
  {
   "cell_type": "markdown",
   "metadata": {
    "colab_type": "text",
    "id": "RRIN4DVf9fQr"
   },
   "source": [
    "**Introduction**"
   ]
  },
  {
   "cell_type": "markdown",
   "metadata": {
    "colab_type": "text",
    "id": "fgxUuWHH9fTn"
   },
   "source": [
    "The goal of this project is to process the NBA dataset, clean, interpret, analyze, visualize the data, making prediction and regression analysis. Dataset includes the NBA data of each game from 2004 to 03/01/2020, all statistics of players for a given game and detail such as player performance, played time and seasonal team record. \n",
    " \n",
    "NBA is usually considered to be the most renowned men's professional basketball league in the world, average regular season viewers reached 2 million and more than 20 million viewers for final games. Exploring NBA dataset could help us find hidden insights and matchup predictions for the team, or identify under-valued players and underdog teams. For instance, in 2017, some NBA teams used data analysis to discover that by scoring more three-point shots will lead to a higher winning probability, such insights made average three-point shots rate increased by more than 40% in 2017. Using such analysis and prediction could systematically help a team to find out the most efficient way of scoring, providing more winning chances for a team, that’s the reason why data analytics is important for NBA. \n",
    " \n",
    " \n",
    "Since NBA has suspended all games including playoffs due to the pandemic, we will now use all available data of 19-20 regular season to predict our target of interest. Our goals including making analysis or predictions. First, we will analyze the performance of players and teams. In terms of performance, we will calculate each player’s efficiency, which is the most common benchmark teams used for rating player performance. More detail of EFF and its formula could be explored here: https://en.wikipedia.org/wiki/Efficiency_(basketball)\n",
    "\n",
    "\n",
    "After creating EFF, we could compare the performance and salary to find out who earned millions but wasn’t contributing to the team, identifying the overpaid underperformers, players who perform weakly or have injury issue. \n",
    "We can also Predict MVP of the year, the most valued player usually will be the best player in the final winning team, and will be voted and chosen by media. To achieve predicting MVP, we could use current data to find which potential team is most likely to be in the final match and which statistics of performance is the best. We will also predict Rookie of the year, a best first-season player will be selected by sports reporters. We can first identify all first-season player in 19-20 season then compare their performance statistics. Also, the most importantly, predict which team will win the annual NBA championship. We will use performance of regular season to predict which team is the top eight seed in each conference to make the playoffs. Then predict each match up in playoffs to the final. \n",
    " \n",
    " \n",
    "Since the 19-20 season only completed about 90% of regular season, we do not have any 19-20 playoffs data. Therefore, in terms of training model to predict our question of interest, we will only use regular season data. For example, we will use 2010-2018 regular season team performance as x, the independent variable, and teams who enter playoffs will be y, target variable. When training model to predict other results such as champion and MVP, will only use regular season data as well.\n",
    " \n",
    " \n",
    " "
   ]
  },
  {
   "cell_type": "markdown",
   "metadata": {
    "colab_type": "text",
    "id": "zZRev1S83Oxh"
   },
   "source": [
    "### Dataset overview <a id='section_id2'></a>\n"
   ]
  },
  {
   "cell_type": "markdown",
   "metadata": {
    "colab_type": "text",
    "id": "FhzVikPM3TTZ"
   },
   "source": [
    "The dataset was collected from [https://www.kaggle.com/nathanlauga/nba-games](https://www.kaggle.com/nathanlauga/nba-games)\n",
    "\n",
    "The dataset contains 5 data:\n",
    "\n",
    "games: all match details from 2004 to 2020  \n",
    "games_details: details of games, all statistics of players for a given game\n",
    "<br>players: players details\n",
    "<br>ranking: ranking of NBA given a day\n",
    "<br>teams: all NBA teams detail such as city, coach, owner\n"
   ]
  },
  {
   "cell_type": "markdown",
   "metadata": {
    "colab_type": "text",
    "id": "FwVHR-6ozkIH"
   },
   "source": [
    "### Data Acquisition and Cleaning"
   ]
  },
  {
   "cell_type": "markdown",
   "metadata": {
    "colab_type": "text",
    "id": "7FrCWWt-tarp"
   },
   "source": [
    "\n",
    "First, we will clean the datasets using merging, grouping, and filtering, or using Regex to extract and transfom data."
   ]
  },
  {
   "cell_type": "code",
   "execution_count": 0,
   "metadata": {
    "colab": {},
    "colab_type": "code",
    "id": "DDc_UWvazmRp"
   },
   "outputs": [],
   "source": [
    "#import library\n",
    "import pandas as pd\n",
    "import numpy as np\n",
    "from sklearn.model_selection import train_test_split, KFold, cross_val_score\n",
    "from sklearn.preprocessing import minmax_scale\n",
    "from sklearn import metrics\n",
    "import matplotlib.pyplot as plt"
   ]
  },
  {
   "cell_type": "code",
   "execution_count": 0,
   "metadata": {
    "colab": {},
    "colab_type": "code",
    "id": "JzNBewjGznLD"
   },
   "outputs": [],
   "source": [
    "#data acquisition\n",
    "url = \"https://raw.githubusercontent.com/KyleTe/NBA_games/master/\"\n",
    "games = pd.read_csv(url+\"games.csv\")\n",
    "games_details = pd.read_csv(url+\"games_details.csv\")\n",
    "players = pd.read_csv(url+\"players.csv\")\n",
    "ranking = pd.read_csv(url+\"ranking.csv\")\n",
    "teams = pd.read_csv(url+\"teams.csv\")"
   ]
  },
  {
   "cell_type": "markdown",
   "metadata": {
    "colab_type": "text",
    "id": "Du3p6jANGMcL"
   },
   "source": [
    "Merge and group data to create teams statistics in season 2019-2020."
   ]
  },
  {
   "cell_type": "code",
   "execution_count": 0,
   "metadata": {
    "colab": {},
    "colab_type": "code",
    "id": "ldtN4711--EJ"
   },
   "outputs": [],
   "source": [
    "#ignore future warning\n",
    "import warnings\n",
    "warnings.filterwarnings(\"ignore\")"
   ]
  },
  {
   "cell_type": "code",
   "execution_count": 0,
   "metadata": {
    "colab": {},
    "colab_type": "code",
    "id": "Qa0mzET6p4Zm"
   },
   "outputs": [],
   "source": [
    "#Merge the data (adding team name to other data)\n",
    "team_name = teams[['TEAM_ID', 'NICKNAME']]\n",
    "games = pd.merge(games,team_name, left_on='HOME_TEAM_ID', right_on='TEAM_ID')\n",
    "ranking = pd.merge(ranking, team_name, on='TEAM_ID')"
   ]
  },
  {
   "cell_type": "code",
   "execution_count": 0,
   "metadata": {
    "colab": {},
    "colab_type": "code",
    "id": "YRDaej60pvLf"
   },
   "outputs": [],
   "source": [
    "#merge games & games_detail dataset\n",
    "games_s19 = games[games['SEASON'] == 2019]['GAME_ID']\n",
    "games_details_s19 = games_details[games_details.GAME_ID.isin(games_s19)]"
   ]
  },
  {
   "cell_type": "code",
   "execution_count": 0,
   "metadata": {
    "colab": {},
    "colab_type": "code",
    "id": "e7nL99YCCLne"
   },
   "outputs": [],
   "source": [
    "#Convert 'MIN' from object to float\n",
    "mymin = pd.to_numeric(games_details['MIN'].str.split(':', expand=True)[0])\n",
    "mysec = (pd.to_numeric(games_details['MIN'].str.split(':', expand=True)[1]).fillna(0)) / 60\n",
    "games_details['MIN'] = mymin + mysec\n",
    "\n",
    "#Use the data in only season 2019\n",
    "games_s19 = games[games['SEASON'] == 2019]['GAME_ID']\n",
    "games_details_s19 = games_details[games_details.GAME_ID.isin(games_s19)]\n",
    "\n",
    "#Filter the column we need\n",
    "player_statistics = games_details_s19.groupby(by = 'PLAYER_NAME', as_index=False)['MIN','REB','AST','STL','BLK','PTS'].mean();"
   ]
  },
  {
   "cell_type": "markdown",
   "metadata": {
    "colab_type": "text",
    "id": "cDvgm21mO7Qv"
   },
   "source": [
    "Team stastistics from season 2010 to 2019."
   ]
  },
  {
   "cell_type": "code",
   "execution_count": 0,
   "metadata": {
    "colab": {},
    "colab_type": "code",
    "id": "1dm0Su-yO0X-"
   },
   "outputs": [],
   "source": [
    "#convert team id to string\n",
    "games.iloc[:,3:5] = games.iloc[:,3:5].astype(str)\n",
    "\n",
    "#retrieve data of 2018-19 regular season\n",
    "team_2018_pre = games[(games['GAME_ID'] <= 21801230) & (games['GAME_ID'] >= 21800001)].sort_values(by='GAME_ID', ascending = False).reset_index(drop=True)\n",
    "team_2017_pre = games[(games['GAME_ID'] <= 21701230) & (games['GAME_ID'] >= 21700001)].sort_values(by='GAME_ID', ascending = False).reset_index(drop=True)\n",
    "team_2016_pre = games[(games['GAME_ID'] <= 21601230) & (games['GAME_ID'] >= 21600001)].sort_values(by='GAME_ID', ascending = False).reset_index(drop=True)\n",
    "team_2015_pre = games[(games['GAME_ID'] <= 21501230) & (games['GAME_ID'] >= 21500001)].sort_values(by='GAME_ID', ascending = False).reset_index(drop=True)\n",
    "team_2014_pre = games[(games['GAME_ID'] <= 21401230) & (games['GAME_ID'] >= 21400001)].sort_values(by='GAME_ID', ascending = False).reset_index(drop=True)\n",
    "team_2013_pre = games[(games['GAME_ID'] <= 21301230) & (games['GAME_ID'] >= 21300001)].sort_values(by='GAME_ID', ascending = False).reset_index(drop=True)\n",
    "team_2012_pre = games[(games['GAME_ID'] <= 21201230) & (games['GAME_ID'] >= 21200001)].sort_values(by='GAME_ID', ascending = False).reset_index(drop=True)\n",
    "team_2011_pre = games[(games['GAME_ID'] <= 21101230) & (games['GAME_ID'] >= 21100001)].sort_values(by='GAME_ID', ascending = False).reset_index(drop=True)\n",
    "team_2010_pre = games[(games['GAME_ID'] <= 21001230) & (games['GAME_ID'] >= 21000001)].sort_values(by='GAME_ID', ascending = False).reset_index(drop=True)\n",
    "\n",
    "\n",
    "#create away team win data \n",
    "team_2018_pre['AWAY_TEAM_WINS'] = team_2018_pre['HOME_TEAM_WINS'].map(lambda x: 0 if x==1 else 1)\n",
    "team_2017_pre['AWAY_TEAM_WINS'] = team_2017_pre['HOME_TEAM_WINS'].map(lambda x: 0 if x==1 else 1)\n",
    "team_2016_pre['AWAY_TEAM_WINS'] = team_2016_pre['HOME_TEAM_WINS'].map(lambda x: 0 if x==1 else 1)\n",
    "team_2015_pre['AWAY_TEAM_WINS'] = team_2015_pre['HOME_TEAM_WINS'].map(lambda x: 0 if x==1 else 1)\n",
    "team_2014_pre['AWAY_TEAM_WINS'] = team_2014_pre['HOME_TEAM_WINS'].map(lambda x: 0 if x==1 else 1)\n",
    "team_2013_pre['AWAY_TEAM_WINS'] = team_2013_pre['HOME_TEAM_WINS'].map(lambda x: 0 if x==1 else 1)\n",
    "team_2012_pre['AWAY_TEAM_WINS'] = team_2012_pre['HOME_TEAM_WINS'].map(lambda x: 0 if x==1 else 1)\n",
    "team_2011_pre['AWAY_TEAM_WINS'] = team_2011_pre['HOME_TEAM_WINS'].map(lambda x: 0 if x==1 else 1)\n",
    "team_2010_pre['AWAY_TEAM_WINS'] = team_2010_pre['HOME_TEAM_WINS'].map(lambda x: 0 if x==1 else 1)\n",
    "\n",
    "\n",
    "#group by data by home and away\n",
    "home_2018_pre = team_2018_pre.groupby(by = 'HOME_TEAM_ID').mean().iloc[:,np.r_[3:9,16]]\n",
    "away_2018_pre = team_2018_pre.groupby(by = 'VISITOR_TEAM_ID').mean().iloc[:,np.r_[10:16,18]]\n",
    "\n",
    "home_2017_pre = team_2017_pre.groupby(by = 'HOME_TEAM_ID').mean().iloc[:,np.r_[3:9,16]]\n",
    "away_2017_pre = team_2017_pre.groupby(by = 'VISITOR_TEAM_ID').mean().iloc[:,np.r_[10:16,18]]\n",
    "\n",
    "home_2016_pre = team_2016_pre.groupby(by = 'HOME_TEAM_ID').mean().iloc[:,np.r_[3:9,16]]\n",
    "away_2016_pre = team_2016_pre.groupby(by = 'VISITOR_TEAM_ID').mean().iloc[:,np.r_[10:16,18]]\n",
    "\n",
    "home_2015_pre = team_2015_pre.groupby(by = 'HOME_TEAM_ID').mean().iloc[:,np.r_[3:9,16]]\n",
    "away_2015_pre = team_2015_pre.groupby(by = 'VISITOR_TEAM_ID').mean().iloc[:,np.r_[10:16,18]]\n",
    "\n",
    "home_2014_pre = team_2014_pre.groupby(by = 'HOME_TEAM_ID').mean().iloc[:,np.r_[3:9,16]]\n",
    "away_2014_pre = team_2014_pre.groupby(by = 'VISITOR_TEAM_ID').mean().iloc[:,np.r_[10:16,18]]\n",
    "\n",
    "home_2013_pre = team_2013_pre.groupby(by = 'HOME_TEAM_ID').mean().iloc[:,np.r_[3:9,16]]\n",
    "away_2013_pre = team_2013_pre.groupby(by = 'VISITOR_TEAM_ID').mean().iloc[:,np.r_[10:16,18]]\n",
    "\n",
    "home_2012_pre = team_2012_pre.groupby(by = 'HOME_TEAM_ID').mean().iloc[:,np.r_[3:9,16]]\n",
    "away_2012_pre = team_2012_pre.groupby(by = 'VISITOR_TEAM_ID').mean().iloc[:,np.r_[10:16,18]]\n",
    "\n",
    "home_2011_pre = team_2011_pre.groupby(by = 'HOME_TEAM_ID').mean().iloc[:,np.r_[3:9,16]]\n",
    "away_2011_pre = team_2011_pre.groupby(by = 'VISITOR_TEAM_ID').mean().iloc[:,np.r_[10:16,18]]\n",
    "\n",
    "home_2010_pre = team_2010_pre.groupby(by = 'HOME_TEAM_ID').mean().iloc[:,np.r_[3:9,16]]\n",
    "away_2010_pre = team_2010_pre.groupby(by = 'VISITOR_TEAM_ID').mean().iloc[:,np.r_[10:16,18]]\n",
    "\n",
    "#rename the columns\n",
    "colname_stat =  ['PTS', 'FG_PCT','FT_PCT','FG3_PCT','AST','REB','WINRATE']\n",
    "home_2018_pre.columns = away_2018_pre.columns = home_2017_pre.columns = away_2017_pre.columns = colname_stat\n",
    "home_2016_pre.columns = away_2016_pre.columns = colname_stat\n",
    "home_2015_pre.columns = away_2015_pre.columns = colname_stat\n",
    "home_2014_pre.columns = away_2014_pre.columns = colname_stat\n",
    "home_2013_pre.columns = away_2013_pre.columns = colname_stat\n",
    "home_2012_pre.columns = away_2012_pre.columns = colname_stat\n",
    "home_2011_pre.columns = away_2011_pre.columns = colname_stat\n",
    "home_2010_pre.columns = away_2010_pre.columns = colname_stat\n",
    "\n",
    "\n",
    "#home/away winrate difference\n",
    "home_2018_pre['WINRATE']-away_2018_pre['WINRATE']\n",
    "\n",
    "# regular season overall stats group by team\n",
    "stats_2018_pre = (home_2018_pre + away_2018_pre)/2\n",
    "stats_2017_pre = (home_2017_pre + away_2017_pre)/2\n",
    "stats_2016_pre = (home_2016_pre + away_2016_pre)/2\n",
    "stats_2015_pre = (home_2015_pre + away_2015_pre)/2\n",
    "stats_2014_pre = (home_2014_pre + away_2014_pre)/2\n",
    "stats_2013_pre = (home_2013_pre + away_2013_pre)/2\n",
    "stats_2012_pre = (home_2012_pre + away_2012_pre)/2\n",
    "stats_2011_pre = (home_2011_pre + away_2011_pre)/2\n",
    "stats_2010_pre = (home_2010_pre + away_2010_pre)/2\n",
    "\n",
    "# convert teamid to string\n",
    "team_name['TEAM_ID'] = team_name['TEAM_ID'].astype(str)\n",
    "\n",
    "#merge data with team name\n",
    "stats_2018_pre = pd.merge(stats_2018_pre,team_name, left_on='HOME_TEAM_ID', right_on='TEAM_ID')\n",
    "stats_2017_pre = pd.merge(stats_2017_pre,team_name, left_on='HOME_TEAM_ID', right_on='TEAM_ID')\n",
    "stats_2016_pre = pd.merge(stats_2016_pre,team_name, left_on='HOME_TEAM_ID', right_on='TEAM_ID')\n",
    "stats_2015_pre = pd.merge(stats_2015_pre,team_name, left_on='HOME_TEAM_ID', right_on='TEAM_ID')\n",
    "stats_2014_pre = pd.merge(stats_2014_pre,team_name, left_on='HOME_TEAM_ID', right_on='TEAM_ID')\n",
    "stats_2013_pre = pd.merge(stats_2013_pre,team_name, left_on='HOME_TEAM_ID', right_on='TEAM_ID')\n",
    "stats_2012_pre = pd.merge(stats_2012_pre,team_name, left_on='HOME_TEAM_ID', right_on='TEAM_ID')\n",
    "stats_2011_pre = pd.merge(stats_2011_pre,team_name, left_on='HOME_TEAM_ID', right_on='TEAM_ID')\n",
    "stats_2010_pre = pd.merge(stats_2010_pre,team_name, left_on='HOME_TEAM_ID', right_on='TEAM_ID')\n",
    "\n"
   ]
  },
  {
   "cell_type": "code",
   "execution_count": 0,
   "metadata": {
    "colab": {
     "base_uri": "https://localhost:8080/",
     "height": 203
    },
    "colab_type": "code",
    "id": "AUh9bDZBPTGU",
    "outputId": "e8049a69-c648-4fb7-b4be-e72b4e9f4a21"
   },
   "outputs": [
    {
     "data": {
      "text/html": [
       "<div>\n",
       "<style scoped>\n",
       "    .dataframe tbody tr th:only-of-type {\n",
       "        vertical-align: middle;\n",
       "    }\n",
       "\n",
       "    .dataframe tbody tr th {\n",
       "        vertical-align: top;\n",
       "    }\n",
       "\n",
       "    .dataframe thead th {\n",
       "        text-align: right;\n",
       "    }\n",
       "</style>\n",
       "<table border=\"1\" class=\"dataframe\">\n",
       "  <thead>\n",
       "    <tr style=\"text-align: right;\">\n",
       "      <th></th>\n",
       "      <th>TEAM_ID</th>\n",
       "      <th>NICKNAME</th>\n",
       "      <th>PTS</th>\n",
       "      <th>FG_PCT</th>\n",
       "      <th>FT_PCT</th>\n",
       "      <th>FG3_PCT</th>\n",
       "      <th>AST</th>\n",
       "      <th>REB</th>\n",
       "      <th>WINRATE</th>\n",
       "    </tr>\n",
       "  </thead>\n",
       "  <tbody>\n",
       "    <tr>\n",
       "      <th>0</th>\n",
       "      <td>1610612737</td>\n",
       "      <td>Hawks</td>\n",
       "      <td>0.538468</td>\n",
       "      <td>0.451129</td>\n",
       "      <td>0.789629</td>\n",
       "      <td>0.331419</td>\n",
       "      <td>0.546496</td>\n",
       "      <td>0.108836</td>\n",
       "      <td>0.306452</td>\n",
       "    </tr>\n",
       "    <tr>\n",
       "      <th>1</th>\n",
       "      <td>1610612738</td>\n",
       "      <td>Celtics</td>\n",
       "      <td>0.647477</td>\n",
       "      <td>0.463636</td>\n",
       "      <td>0.803641</td>\n",
       "      <td>0.367448</td>\n",
       "      <td>0.436370</td>\n",
       "      <td>0.399428</td>\n",
       "      <td>0.696552</td>\n",
       "    </tr>\n",
       "    <tr>\n",
       "      <th>2</th>\n",
       "      <td>1610612739</td>\n",
       "      <td>Cavaliers</td>\n",
       "      <td>0.247249</td>\n",
       "      <td>0.457781</td>\n",
       "      <td>0.760025</td>\n",
       "      <td>0.345377</td>\n",
       "      <td>0.377404</td>\n",
       "      <td>0.228132</td>\n",
       "      <td>0.283482</td>\n",
       "    </tr>\n",
       "    <tr>\n",
       "      <th>3</th>\n",
       "      <td>1610612740</td>\n",
       "      <td>Pelicans</td>\n",
       "      <td>0.784936</td>\n",
       "      <td>0.463683</td>\n",
       "      <td>0.731783</td>\n",
       "      <td>0.374100</td>\n",
       "      <td>0.958251</td>\n",
       "      <td>0.475433</td>\n",
       "      <td>0.433333</td>\n",
       "    </tr>\n",
       "    <tr>\n",
       "      <th>4</th>\n",
       "      <td>1610612741</td>\n",
       "      <td>Bulls</td>\n",
       "      <td>0.274451</td>\n",
       "      <td>0.447284</td>\n",
       "      <td>0.754379</td>\n",
       "      <td>0.350316</td>\n",
       "      <td>0.450138</td>\n",
       "      <td>0.000000</td>\n",
       "      <td>0.331479</td>\n",
       "    </tr>\n",
       "  </tbody>\n",
       "</table>\n",
       "</div>"
      ],
      "text/plain": [
       "      TEAM_ID   NICKNAME       PTS  ...       AST       REB   WINRATE\n",
       "0  1610612737      Hawks  0.538468  ...  0.546496  0.108836  0.306452\n",
       "1  1610612738    Celtics  0.647477  ...  0.436370  0.399428  0.696552\n",
       "2  1610612739  Cavaliers  0.247249  ...  0.377404  0.228132  0.283482\n",
       "3  1610612740   Pelicans  0.784936  ...  0.958251  0.475433  0.433333\n",
       "4  1610612741      Bulls  0.274451  ...  0.450138  0.000000  0.331479\n",
       "\n",
       "[5 rows x 9 columns]"
      ]
     },
     "execution_count": 8,
     "metadata": {
      "tags": []
     },
     "output_type": "execute_result"
    }
   ],
   "source": [
    "#create testing data of 2019 regular season\n",
    "team_2019_pre = games[(games['GAME_ID'] <= 21900901) & (games['GAME_ID'] >= 21900001)].sort_values(by='GAME_ID', ascending = False).reset_index(drop=True)\n",
    "#create away team win data \n",
    "team_2019_pre['AWAY_TEAM_WINS'] = team_2019_pre['HOME_TEAM_WINS'].map(lambda x: 0 if x==1 else 1)\n",
    "#groupby data by home and away\n",
    "home_2019_pre = team_2019_pre.groupby(by = 'HOME_TEAM_ID').mean().iloc[:,np.r_[3:9,16]]\n",
    "away_2019_pre = team_2019_pre.groupby(by = 'VISITOR_TEAM_ID').mean().iloc[:,np.r_[10:16,18]]\n",
    "#rename columns\n",
    "home_2019_pre.columns = away_2019_pre.columns = colname_stat\n",
    "\n",
    "# regular season overall stats group by team\n",
    "stats_2019_pre = (home_2019_pre + away_2019_pre)/2\n",
    "#merge data with team name\n",
    "stats_2019_pre = pd.merge(stats_2019_pre,team_name, left_on='HOME_TEAM_ID', right_on='TEAM_ID')\n",
    "\n",
    "#normalization\n",
    "stats_2019_pre['PTS'] = minmax_scale(stats_2019_pre['PTS'], feature_range=(0,1))\n",
    "stats_2019_pre['AST'] = minmax_scale(stats_2019_pre['AST'], feature_range=(0,1))\n",
    "stats_2019_pre['REB'] = minmax_scale(stats_2019_pre['REB'], feature_range=(0,1))\n",
    "stats_2019_pre =stats_2019_pre.iloc[:,np.r_[7,8,0:7]]\n",
    "stats_2019_pre.head()"
   ]
  },
  {
   "cell_type": "markdown",
   "metadata": {
    "colab_type": "text",
    "id": "UH9KuCGcLUoc"
   },
   "source": [
    "### Analysis of Player's statistics and other information \n"
   ]
  },
  {
   "cell_type": "markdown",
   "metadata": {
    "colab_type": "text",
    "id": "TRQ4OBU4_kFr"
   },
   "source": [
    "We created a player statistics ranking by average points, but there is a better benchmark to evaluate players, which is EFF. "
   ]
  },
  {
   "cell_type": "code",
   "execution_count": 0,
   "metadata": {
    "colab": {
     "base_uri": "https://localhost:8080/",
     "height": 357
    },
    "colab_type": "code",
    "id": "HwtJTgRENq62",
    "outputId": "b3d6690c-57e8-46c5-e01b-32ece7df9c47"
   },
   "outputs": [
    {
     "data": {
      "text/html": [
       "<div>\n",
       "<style scoped>\n",
       "    .dataframe tbody tr th:only-of-type {\n",
       "        vertical-align: middle;\n",
       "    }\n",
       "\n",
       "    .dataframe tbody tr th {\n",
       "        vertical-align: top;\n",
       "    }\n",
       "\n",
       "    .dataframe thead th {\n",
       "        text-align: right;\n",
       "    }\n",
       "</style>\n",
       "<table border=\"1\" class=\"dataframe\">\n",
       "  <thead>\n",
       "    <tr style=\"text-align: right;\">\n",
       "      <th></th>\n",
       "      <th>PLAYER_NAME</th>\n",
       "      <th>MIN</th>\n",
       "      <th>REB</th>\n",
       "      <th>AST</th>\n",
       "      <th>STL</th>\n",
       "      <th>BLK</th>\n",
       "      <th>PTS</th>\n",
       "    </tr>\n",
       "  </thead>\n",
       "  <tbody>\n",
       "    <tr>\n",
       "      <th>0</th>\n",
       "      <td>James Harden</td>\n",
       "      <td>36.276776</td>\n",
       "      <td>6.311475</td>\n",
       "      <td>7.344262</td>\n",
       "      <td>1.721311</td>\n",
       "      <td>0.868852</td>\n",
       "      <td>34.950820</td>\n",
       "    </tr>\n",
       "    <tr>\n",
       "      <th>1</th>\n",
       "      <td>Giannis Antetokounmpo</td>\n",
       "      <td>30.502632</td>\n",
       "      <td>13.701754</td>\n",
       "      <td>5.684211</td>\n",
       "      <td>1.052632</td>\n",
       "      <td>1.070175</td>\n",
       "      <td>29.789474</td>\n",
       "    </tr>\n",
       "    <tr>\n",
       "      <th>2</th>\n",
       "      <td>Bradley Beal</td>\n",
       "      <td>34.640476</td>\n",
       "      <td>4.214286</td>\n",
       "      <td>5.857143</td>\n",
       "      <td>1.160714</td>\n",
       "      <td>0.357143</td>\n",
       "      <td>29.267857</td>\n",
       "    </tr>\n",
       "    <tr>\n",
       "      <th>3</th>\n",
       "      <td>Damian Lillard</td>\n",
       "      <td>36.319006</td>\n",
       "      <td>4.298246</td>\n",
       "      <td>7.701754</td>\n",
       "      <td>0.929825</td>\n",
       "      <td>0.350877</td>\n",
       "      <td>28.807018</td>\n",
       "    </tr>\n",
       "    <tr>\n",
       "      <th>4</th>\n",
       "      <td>Trae Young</td>\n",
       "      <td>34.607377</td>\n",
       "      <td>4.393443</td>\n",
       "      <td>9.180328</td>\n",
       "      <td>1.098361</td>\n",
       "      <td>0.131148</td>\n",
       "      <td>28.754098</td>\n",
       "    </tr>\n",
       "    <tr>\n",
       "      <th>5</th>\n",
       "      <td>Luka Doncic</td>\n",
       "      <td>32.323718</td>\n",
       "      <td>9.442308</td>\n",
       "      <td>8.403846</td>\n",
       "      <td>1.038462</td>\n",
       "      <td>0.192308</td>\n",
       "      <td>27.980769</td>\n",
       "    </tr>\n",
       "    <tr>\n",
       "      <th>6</th>\n",
       "      <td>Russell Westbrook</td>\n",
       "      <td>35.236164</td>\n",
       "      <td>7.566038</td>\n",
       "      <td>6.962264</td>\n",
       "      <td>1.698113</td>\n",
       "      <td>0.320755</td>\n",
       "      <td>26.735849</td>\n",
       "    </tr>\n",
       "    <tr>\n",
       "      <th>7</th>\n",
       "      <td>Kawhi Leonard</td>\n",
       "      <td>31.687415</td>\n",
       "      <td>7.285714</td>\n",
       "      <td>5.122449</td>\n",
       "      <td>1.857143</td>\n",
       "      <td>0.591837</td>\n",
       "      <td>26.326531</td>\n",
       "    </tr>\n",
       "    <tr>\n",
       "      <th>8</th>\n",
       "      <td>Kyrie Irving</td>\n",
       "      <td>31.090909</td>\n",
       "      <td>4.818182</td>\n",
       "      <td>6.000000</td>\n",
       "      <td>1.318182</td>\n",
       "      <td>0.454545</td>\n",
       "      <td>25.772727</td>\n",
       "    </tr>\n",
       "    <tr>\n",
       "      <th>9</th>\n",
       "      <td>Karl-Anthony Towns</td>\n",
       "      <td>32.862393</td>\n",
       "      <td>10.384615</td>\n",
       "      <td>4.333333</td>\n",
       "      <td>0.974359</td>\n",
       "      <td>1.256410</td>\n",
       "      <td>25.717949</td>\n",
       "    </tr>\n",
       "  </tbody>\n",
       "</table>\n",
       "</div>"
      ],
      "text/plain": [
       "             PLAYER_NAME        MIN        REB  ...       STL       BLK        PTS\n",
       "0           James Harden  36.276776   6.311475  ...  1.721311  0.868852  34.950820\n",
       "1  Giannis Antetokounmpo  30.502632  13.701754  ...  1.052632  1.070175  29.789474\n",
       "2           Bradley Beal  34.640476   4.214286  ...  1.160714  0.357143  29.267857\n",
       "3         Damian Lillard  36.319006   4.298246  ...  0.929825  0.350877  28.807018\n",
       "4             Trae Young  34.607377   4.393443  ...  1.098361  0.131148  28.754098\n",
       "5            Luka Doncic  32.323718   9.442308  ...  1.038462  0.192308  27.980769\n",
       "6      Russell Westbrook  35.236164   7.566038  ...  1.698113  0.320755  26.735849\n",
       "7          Kawhi Leonard  31.687415   7.285714  ...  1.857143  0.591837  26.326531\n",
       "8           Kyrie Irving  31.090909   4.818182  ...  1.318182  0.454545  25.772727\n",
       "9     Karl-Anthony Towns  32.862393  10.384615  ...  0.974359  1.256410  25.717949\n",
       "\n",
       "[10 rows x 7 columns]"
      ]
     },
     "execution_count": 9,
     "metadata": {
      "tags": []
     },
     "output_type": "execute_result"
    }
   ],
   "source": [
    "#Order by points\n",
    "player_statistics.sort_values('PTS', ascending=False).reset_index(drop=True).head(10)"
   ]
  },
  {
   "cell_type": "code",
   "execution_count": 0,
   "metadata": {
    "colab": {},
    "colab_type": "code",
    "id": "rdANVU_DlXC9"
   },
   "outputs": [],
   "source": []
  },
  {
   "cell_type": "markdown",
   "metadata": {
    "colab_type": "text",
    "id": "2EHj3xNA-Zl-"
   },
   "source": [
    "**Creating EFF for each players**\n",
    "\n",
    "EFF formula: (PTS + REB + AST + STL + BLK − Missed FG − Missed FT - TO) / GP\n",
    "\n",
    "The Efficiency, the most commonly used statistical benchmark for comparing the overall value of players, accounts for both a player's offensive contributions (points, assists) and their defensive contributions (steals, blocks)\n",
    "\n",
    "(From: [Wikipedia: EFF](https://en.wikipedia.org/wiki/Efficiency_(basketball)))\n",
    "\n"
   ]
  },
  {
   "cell_type": "code",
   "execution_count": 0,
   "metadata": {
    "colab": {
     "base_uri": "https://localhost:8080/",
     "height": 257
    },
    "colab_type": "code",
    "id": "Gj7CaMcNKIOp",
    "outputId": "274b1255-c99d-461d-b597-2ba4fcaaf5c2"
   },
   "outputs": [
    {
     "data": {
      "text/html": [
       "<div>\n",
       "<style scoped>\n",
       "    .dataframe tbody tr th:only-of-type {\n",
       "        vertical-align: middle;\n",
       "    }\n",
       "\n",
       "    .dataframe tbody tr th {\n",
       "        vertical-align: top;\n",
       "    }\n",
       "\n",
       "    .dataframe thead th {\n",
       "        text-align: right;\n",
       "    }\n",
       "</style>\n",
       "<table border=\"1\" class=\"dataframe\">\n",
       "  <thead>\n",
       "    <tr style=\"text-align: right;\">\n",
       "      <th></th>\n",
       "      <th>PLAYER_NAME</th>\n",
       "      <th>PTS</th>\n",
       "      <th>REB</th>\n",
       "      <th>AST</th>\n",
       "      <th>STL</th>\n",
       "      <th>BLK</th>\n",
       "      <th>FGA</th>\n",
       "      <th>FGM</th>\n",
       "      <th>FTA</th>\n",
       "      <th>FTM</th>\n",
       "      <th>TO</th>\n",
       "      <th>EFF</th>\n",
       "    </tr>\n",
       "  </thead>\n",
       "  <tbody>\n",
       "    <tr>\n",
       "      <th>212</th>\n",
       "      <td>Giannis Antetokounmpo</td>\n",
       "      <td>29.789474</td>\n",
       "      <td>13.701754</td>\n",
       "      <td>5.684211</td>\n",
       "      <td>1.052632</td>\n",
       "      <td>1.070175</td>\n",
       "      <td>19.754386</td>\n",
       "      <td>11.000000</td>\n",
       "      <td>10.017544</td>\n",
       "      <td>6.315789</td>\n",
       "      <td>3.649123</td>\n",
       "      <td>35.192982</td>\n",
       "    </tr>\n",
       "    <tr>\n",
       "      <th>263</th>\n",
       "      <td>James Harden</td>\n",
       "      <td>34.950820</td>\n",
       "      <td>6.311475</td>\n",
       "      <td>7.344262</td>\n",
       "      <td>1.721311</td>\n",
       "      <td>0.868852</td>\n",
       "      <td>22.819672</td>\n",
       "      <td>10.098361</td>\n",
       "      <td>11.819672</td>\n",
       "      <td>10.131148</td>\n",
       "      <td>4.377049</td>\n",
       "      <td>32.409836</td>\n",
       "    </tr>\n",
       "    <tr>\n",
       "      <th>344</th>\n",
       "      <td>Karl-Anthony Towns</td>\n",
       "      <td>25.717949</td>\n",
       "      <td>10.384615</td>\n",
       "      <td>4.333333</td>\n",
       "      <td>0.974359</td>\n",
       "      <td>1.256410</td>\n",
       "      <td>17.205128</td>\n",
       "      <td>8.769231</td>\n",
       "      <td>6.179487</td>\n",
       "      <td>4.974359</td>\n",
       "      <td>3.076923</td>\n",
       "      <td>29.948718</td>\n",
       "    </tr>\n",
       "    <tr>\n",
       "      <th>401</th>\n",
       "      <td>Luka Doncic</td>\n",
       "      <td>27.980769</td>\n",
       "      <td>9.442308</td>\n",
       "      <td>8.403846</td>\n",
       "      <td>1.038462</td>\n",
       "      <td>0.192308</td>\n",
       "      <td>19.788462</td>\n",
       "      <td>9.115385</td>\n",
       "      <td>8.980769</td>\n",
       "      <td>6.865385</td>\n",
       "      <td>4.346154</td>\n",
       "      <td>29.923077</td>\n",
       "    </tr>\n",
       "    <tr>\n",
       "      <th>29</th>\n",
       "      <td>Anthony Davis</td>\n",
       "      <td>25.381818</td>\n",
       "      <td>9.181818</td>\n",
       "      <td>3.290909</td>\n",
       "      <td>1.454545</td>\n",
       "      <td>2.436364</td>\n",
       "      <td>17.363636</td>\n",
       "      <td>8.781818</td>\n",
       "      <td>8.072727</td>\n",
       "      <td>6.781818</td>\n",
       "      <td>2.418182</td>\n",
       "      <td>29.454545</td>\n",
       "    </tr>\n",
       "  </tbody>\n",
       "</table>\n",
       "</div>"
      ],
      "text/plain": [
       "               PLAYER_NAME        PTS  ...        TO        EFF\n",
       "212  Giannis Antetokounmpo  29.789474  ...  3.649123  35.192982\n",
       "263           James Harden  34.950820  ...  4.377049  32.409836\n",
       "344     Karl-Anthony Towns  25.717949  ...  3.076923  29.948718\n",
       "401            Luka Doncic  27.980769  ...  4.346154  29.923077\n",
       "29           Anthony Davis  25.381818  ...  2.418182  29.454545\n",
       "\n",
       "[5 rows x 12 columns]"
      ]
     },
     "execution_count": 10,
     "metadata": {
      "tags": []
     },
     "output_type": "execute_result"
    }
   ],
   "source": [
    "#retrieve data we need from previous created df\n",
    "player_per= games_details_s19.groupby(by = 'PLAYER_NAME', as_index=False)['PTS','REB','AST','STL','BLK','FGA','FGM','FTA','FTM','TO'].mean()\n",
    "#calculate EFF\n",
    "player_per['EFF'] = (player_per['PTS']+player_per['REB']+player_per['AST']+player_per['STL']+player_per['BLK'])-(player_per['FGA']-player_per['FGM'])-(player_per['FTA']-player_per['FTM']) - player_per['TO']\n",
    "#ranking players by EFF\n",
    "player_per.sort_values(by='EFF',ascending=False).head(5)"
   ]
  },
  {
   "cell_type": "markdown",
   "metadata": {
    "colab_type": "text",
    "id": "axyCUE2VCAde"
   },
   "source": [
    "Before calculated EFF, we could only rank players by defensive or offensive performance, but now we could have a clearer view of player performace since EFF counting offensive, defense, and mistakes (Turnover and missed shots)."
   ]
  },
  {
   "cell_type": "markdown",
   "metadata": {
    "colab_type": "text",
    "id": "A5-8LY1aFJQh"
   },
   "source": [
    "We're also interested in other player information such as body measurement."
   ]
  },
  {
   "cell_type": "code",
   "execution_count": 0,
   "metadata": {
    "colab": {
     "base_uri": "https://localhost:8080/",
     "height": 387
    },
    "colab_type": "code",
    "id": "MrbTsMhLobRK",
    "outputId": "8625c7ad-bda9-4c04-edb2-9e3637ac0bb3"
   },
   "outputs": [
    {
     "data": {
      "text/html": [
       "<div>\n",
       "<style scoped>\n",
       "    .dataframe tbody tr th:only-of-type {\n",
       "        vertical-align: middle;\n",
       "    }\n",
       "\n",
       "    .dataframe tbody tr th {\n",
       "        vertical-align: top;\n",
       "    }\n",
       "\n",
       "    .dataframe thead th {\n",
       "        text-align: right;\n",
       "    }\n",
       "</style>\n",
       "<table border=\"1\" class=\"dataframe\">\n",
       "  <thead>\n",
       "    <tr style=\"text-align: right;\">\n",
       "      <th></th>\n",
       "      <th>player_weight</th>\n",
       "      <th>player_height</th>\n",
       "      <th>BMI</th>\n",
       "    </tr>\n",
       "    <tr>\n",
       "      <th>NICKNAME</th>\n",
       "      <th></th>\n",
       "      <th></th>\n",
       "      <th></th>\n",
       "    </tr>\n",
       "  </thead>\n",
       "  <tbody>\n",
       "    <tr>\n",
       "      <th>Celtics</th>\n",
       "      <td>101.730606</td>\n",
       "      <td>197.555556</td>\n",
       "      <td>26.065925</td>\n",
       "    </tr>\n",
       "    <tr>\n",
       "      <th>Bucks</th>\n",
       "      <td>102.058200</td>\n",
       "      <td>199.315294</td>\n",
       "      <td>25.690151</td>\n",
       "    </tr>\n",
       "    <tr>\n",
       "      <th>Cavaliers</th>\n",
       "      <td>100.697424</td>\n",
       "      <td>198.402222</td>\n",
       "      <td>25.581458</td>\n",
       "    </tr>\n",
       "    <tr>\n",
       "      <th>Rockets</th>\n",
       "      <td>97.947523</td>\n",
       "      <td>196.056250</td>\n",
       "      <td>25.481916</td>\n",
       "    </tr>\n",
       "    <tr>\n",
       "      <th>Jazz</th>\n",
       "      <td>99.217282</td>\n",
       "      <td>197.451579</td>\n",
       "      <td>25.448729</td>\n",
       "    </tr>\n",
       "    <tr>\n",
       "      <th>Pelicans</th>\n",
       "      <td>98.826357</td>\n",
       "      <td>197.326250</td>\n",
       "      <td>25.380669</td>\n",
       "    </tr>\n",
       "    <tr>\n",
       "      <th>Hornets</th>\n",
       "      <td>99.506745</td>\n",
       "      <td>199.072500</td>\n",
       "      <td>25.109033</td>\n",
       "    </tr>\n",
       "    <tr>\n",
       "      <th>Knicks</th>\n",
       "      <td>98.145969</td>\n",
       "      <td>197.961250</td>\n",
       "      <td>25.044484</td>\n",
       "    </tr>\n",
       "    <tr>\n",
       "      <th>Lakers</th>\n",
       "      <td>98.656260</td>\n",
       "      <td>198.596250</td>\n",
       "      <td>25.013966</td>\n",
       "    </tr>\n",
       "    <tr>\n",
       "      <th>76ers</th>\n",
       "      <td>99.256602</td>\n",
       "      <td>199.315294</td>\n",
       "      <td>24.984931</td>\n",
       "    </tr>\n",
       "  </tbody>\n",
       "</table>\n",
       "</div>"
      ],
      "text/plain": [
       "           player_weight  player_height        BMI\n",
       "NICKNAME                                          \n",
       "Celtics       101.730606     197.555556  26.065925\n",
       "Bucks         102.058200     199.315294  25.690151\n",
       "Cavaliers     100.697424     198.402222  25.581458\n",
       "Rockets        97.947523     196.056250  25.481916\n",
       "Jazz           99.217282     197.451579  25.448729\n",
       "Pelicans       98.826357     197.326250  25.380669\n",
       "Hornets        99.506745     199.072500  25.109033\n",
       "Knicks         98.145969     197.961250  25.044484\n",
       "Lakers         98.656260     198.596250  25.013966\n",
       "76ers          99.256602     199.315294  24.984931"
      ]
     },
     "execution_count": 11,
     "metadata": {
      "tags": []
     },
     "output_type": "execute_result"
    }
   ],
   "source": [
    "#import more player detail such as height and weight\n",
    "#data was downloaded from \n",
    "player_bio = pd.read_csv(url+\"all_seasons.csv\")\n",
    "\n",
    "#Select player info within season 20-19\n",
    "player_bio = player_bio[[\"PLAYER_NAME\",\"age\",\"player_height\",\"player_weight\",\"season\"]]\n",
    "player_bio = player_bio[player_bio[\"season\"] == \"2019-20\"]\n",
    "player_bio = player_bio.sort_values(by='PLAYER_NAME', ascending=True).drop(['season'], axis=1)\n",
    "\n",
    "#Merge data\n",
    "player_w_h=pd.merge(players[players['SEASON']==2019],player_bio,left_on='PLAYER_NAME',right_on='PLAYER_NAME',how='inner')\n",
    "team_name['TEAM_ID'] = team_name['TEAM_ID'].astype(int)\n",
    "player_w_h_2=pd.merge(player_w_h,team_name,left_on='TEAM_ID',right_on='TEAM_ID',how='inner')\n",
    "\n",
    "#BMI=Weight(kg)/height(m)**2\n",
    "temp_weight=pd.DataFrame(player_w_h_2.groupby('NICKNAME')['player_weight'].mean().sort_values(ascending=False))\n",
    "temp_height=pd.DataFrame(player_w_h_2.groupby('NICKNAME')['player_height'].mean().sort_values(ascending=False))\n",
    "temp_weight_height=pd.merge(temp_weight,temp_height,on='NICKNAME',how='inner')\n",
    "temp_weight_height['player_height']=temp_weight_height['player_height'] \n",
    "\n",
    "#BMI=Weight(kg)/height(m)**2\n",
    "temp_weight_height['BMI']=temp_weight_height['player_weight']/(temp_weight_height['player_height']/100) ** 2\n",
    "temp_weight_height.sort_values('BMI', ascending=False).head(10)\n"
   ]
  },
  {
   "cell_type": "code",
   "execution_count": 0,
   "metadata": {
    "colab": {
     "base_uri": "https://localhost:8080/",
     "height": 158
    },
    "colab_type": "code",
    "id": "7YHUuPgKqsI8",
    "outputId": "a4f2833d-05ff-48de-98f5-a4d6a0ede1e7"
   },
   "outputs": [
    {
     "data": {
      "text/plain": [
       "mean    25.573930\n",
       "std      4.032444\n",
       "min     19.000000\n",
       "25%     22.000000\n",
       "50%     25.000000\n",
       "75%     28.000000\n",
       "max     43.000000\n",
       "Name: age, dtype: float64"
      ]
     },
     "execution_count": 12,
     "metadata": {
      "tags": []
     },
     "output_type": "execute_result"
    }
   ],
   "source": [
    "player_bio['age'].describe()[1:]"
   ]
  },
  {
   "cell_type": "code",
   "execution_count": 0,
   "metadata": {
    "colab": {
     "base_uri": "https://localhost:8080/",
     "height": 87
    },
    "colab_type": "code",
    "id": "HHzsqg55ohni",
    "outputId": "94459663-fff1-4a59-e9bc-6fd0993b6d14"
   },
   "outputs": [
    {
     "name": "stdout",
     "output_type": "stream",
     "text": [
      "Avg NBA Player's Height: 198.8755284027061\n",
      "Avg NBA Player's Weight: 98.56161778994728\n",
      "Avg NBA Player's BMI: 24.92128041533921\n",
      "Avg NBA Player's Age: 25.573930\n"
     ]
    }
   ],
   "source": [
    "print(\"Avg NBA Player's Height:\",temp_weight_height['player_height'].mean())\n",
    "print(\"Avg NBA Player's Weight:\",temp_weight_height['player_weight'].mean())\n",
    "print(\"Avg NBA Player's BMI:\",temp_weight_height['BMI'].mean())\n",
    "print(\"Avg NBA Player's Age:\",'25.573930' )"
   ]
  },
  {
   "cell_type": "markdown",
   "metadata": {
    "colab_type": "text",
    "id": "JFzBT_0CoqiS"
   },
   "source": [
    "From above three tables, we can notice that in NBA(take 19-20 season for example)\n",
    "\n",
    "\n",
    "1.   Avg NBA Player's Height: 199\n",
    "2.   Avg NBA Player's Weight: 98.6\n",
    "3.   Avg NBA Player's BMI: 24.92\n",
    "4.   Avg NBA Player's Age: 25.57\n",
    "<br>(Units: CM and KG)\n",
    "\n",
    "We also found out that as for normal human beings(not professional athletes), if we keep our BMI in the range of 18.5~24, then we are in good shape, over 24, will be considered as over-weight, below 18.5 is too light. However, based on the research studies, this measures may not suit for professional athletes, since they usually have more muscle with lower body fat than normal people, this caused their BMI to be usually in the range from 24 to 28(but still in amazing shapes!)\n",
    "\n",
    "As for the age, the average player's age is 25.57. What is interesting is that the min is 19, max is 43(the range is 18 years old)!"
   ]
  },
  {
   "cell_type": "code",
   "execution_count": 0,
   "metadata": {
    "colab": {
     "base_uri": "https://localhost:8080/",
     "height": 417
    },
    "colab_type": "code",
    "id": "Bg8PvqtAqRKY",
    "outputId": "9e2ab1ba-f961-47bc-a0a9-f0c301bce03a"
   },
   "outputs": [
    {
     "data": {
      "text/html": [
       "<html>\n",
       "<head><meta charset=\"utf-8\" /></head>\n",
       "<body>\n",
       "    <div>\n",
       "            <script src=\"https://cdnjs.cloudflare.com/ajax/libs/mathjax/2.7.5/MathJax.js?config=TeX-AMS-MML_SVG\"></script><script type=\"text/javascript\">if (window.MathJax) {MathJax.Hub.Config({SVG: {font: \"STIX-Web\"}});}</script>\n",
       "                <script type=\"text/javascript\">window.PlotlyConfig = {MathJaxConfig: 'local'};</script>\n",
       "        <script src=\"https://cdn.plot.ly/plotly-latest.min.js\"></script>    \n",
       "            <div id=\"e660b8d5-9e0a-406f-be12-ca478b83f564\" class=\"plotly-graph-div\" style=\"height:400px; width:800px;\"></div>\n",
       "            <script type=\"text/javascript\">\n",
       "                \n",
       "                    window.PLOTLYENV=window.PLOTLYENV || {};\n",
       "                    \n",
       "                if (document.getElementById(\"e660b8d5-9e0a-406f-be12-ca478b83f564\")) {\n",
       "                    Plotly.newPlot(\n",
       "                        'e660b8d5-9e0a-406f-be12-ca478b83f564',\n",
       "                        [{\"alignmentgroup\": \"True\", \"bingroup\": \"x\", \"hoverlabel\": {\"namelength\": 0}, \"hovertemplate\": \"age=%{x}<br>count=%{y}\", \"legendgroup\": \"\", \"marker\": {\"color\": \"#636efa\"}, \"name\": \"\", \"offsetgroup\": \"\", \"orientation\": \"v\", \"showlegend\": false, \"type\": \"histogram\", \"x\": [24, 23, 26, 21, 22, 33, 29, 28, 19, 26, 26, 27, 23, 27, 24, 26, 22, 26, 36, 25, 20, 23, 26, 34, 26, 24, 33, 27, 29, 24, 22, 27, 23, 27, 30, 31, 25, 27, 30, 30, 26, 23, 24, 22, 28, 21, 31, 23, 24, 21, 26, 27, 28, 32, 24, 22, 20, 24, 25, 35, 21, 24, 23, 31, 23, 27, 23, 22, 27, 24, 22, 34, 23, 24, 25, 20, 24, 27, 21, 28, 34, 27, 24, 32, 24, 22, 24, 29, 27, 25, 21, 27, 31, 32, 24, 26, 25, 19, 20, 24, 27, 27, 22, 22, 21, 31, 25, 30, 33, 23, 21, 23, 27, 26, 22, 26, 26, 28, 23, 31, 24, 25, 23, 24, 25, 23, 30, 24, 28, 23, 23, 22, 23, 26, 28, 22, 30, 23, 25, 26, 24, 34, 28, 20, 31, 30, 24, 26, 22, 24, 27, 30, 31, 25, 23, 32, 27, 31, 21, 26, 25, 21, 26, 22, 23, 33, 23, 25, 25, 27, 21, 33, 26, 25, 26, 20, 33, 29, 30, 21, 24, 21, 27, 21, 30, 23, 33, 21, 29, 20, 21, 22, 31, 31, 22, 35, 24, 35, 20, 26, 29, 32, 24, 22, 29, 24, 26, 24, 23, 19, 22, 23, 29, 30, 33, 34, 22, 20, 20, 23, 21, 21, 26, 26, 19, 23, 20, 20, 22, 33, 31, 25, 23, 27, 33, 23, 24, 30, 24, 28, 32, 25, 22, 29, 23, 24, 24, 24, 27, 22, 25, 22, 27, 23, 28, 20, 26, 25, 23, 30, 21, 22, 26, 29, 26, 24, 25, 26, 30, 24, 23, 22, 22, 22, 23, 22, 20, 27, 24, 28, 24, 24, 20, 28, 24, 29, 24, 25, 30, 27, 23, 21, 20, 31, 19, 24, 27, 28, 23, 22, 25, 24, 22, 26, 22, 38, 24, 33, 29, 27, 34, 22, 28, 27, 22, 35, 21, 22, 33, 20, 20, 21, 20, 23, 24, 27, 27, 23, 22, 23, 35, 33, 30, 26, 24, 25, 21, 30, 25, 21, 22, 20, 33, 30, 23, 23, 25, 29, 26, 23, 28, 23, 28, 22, 28, 26, 26, 21, 23, 32, 28, 31, 21, 21, 22, 21, 24, 26, 22, 20, 25, 23, 20, 26, 20, 31, 25, 21, 31, 20, 29, 25, 25, 29, 24, 26, 27, 22, 22, 21, 26, 34, 21, 23, 25, 27, 31, 24, 30, 31, 29, 35, 25, 26, 23, 19, 34, 27, 22, 28, 29, 26, 29, 29, 22, 31, 22, 27, 28, 20, 25, 26, 33, 27, 22, 31, 31, 25, 29, 19, 25, 30, 29, 28, 21, 23, 21, 26, 23, 28, 26, 23, 27, 31, 25, 26, 22, 27, 26, 22, 24, 34, 19, 24, 25, 23, 22, 21, 29, 25, 35, 31, 27, 24, 22, 23, 29, 27, 24, 27, 28, 22, 28, 29, 21, 22, 26, 34, 27, 24, 28, 20, 28, 22, 22, 20, 27, 25, 37, 23, 39, 24, 27, 43, 26, 22, 32, 20, 22, 25, 33, 29, 26, 26, 25, 32, 26, 25, 22, 24, 22, 20, 19, 24], \"xaxis\": \"x\", \"yaxis\": \"y\"}],\n",
       "                        {\"barmode\": \"relative\", \"height\": 400, \"legend\": {\"tracegroupgap\": 0}, \"margin\": {\"t\": 60}, \"template\": {\"data\": {\"bar\": [{\"error_x\": {\"color\": \"#2a3f5f\"}, \"error_y\": {\"color\": \"#2a3f5f\"}, \"marker\": {\"line\": {\"color\": \"#E5ECF6\", \"width\": 0.5}}, \"type\": \"bar\"}], \"barpolar\": [{\"marker\": {\"line\": {\"color\": \"#E5ECF6\", \"width\": 0.5}}, \"type\": \"barpolar\"}], \"carpet\": [{\"aaxis\": {\"endlinecolor\": \"#2a3f5f\", \"gridcolor\": \"white\", \"linecolor\": \"white\", \"minorgridcolor\": \"white\", \"startlinecolor\": \"#2a3f5f\"}, \"baxis\": {\"endlinecolor\": \"#2a3f5f\", \"gridcolor\": \"white\", \"linecolor\": \"white\", \"minorgridcolor\": \"white\", \"startlinecolor\": \"#2a3f5f\"}, \"type\": \"carpet\"}], \"choropleth\": [{\"colorbar\": {\"outlinewidth\": 0, \"ticks\": \"\"}, \"type\": \"choropleth\"}], \"contour\": [{\"colorbar\": {\"outlinewidth\": 0, \"ticks\": \"\"}, \"colorscale\": [[0.0, \"#0d0887\"], [0.1111111111111111, \"#46039f\"], [0.2222222222222222, \"#7201a8\"], [0.3333333333333333, \"#9c179e\"], [0.4444444444444444, \"#bd3786\"], [0.5555555555555556, \"#d8576b\"], [0.6666666666666666, \"#ed7953\"], [0.7777777777777778, \"#fb9f3a\"], [0.8888888888888888, \"#fdca26\"], [1.0, \"#f0f921\"]], \"type\": \"contour\"}], \"contourcarpet\": [{\"colorbar\": {\"outlinewidth\": 0, \"ticks\": \"\"}, \"type\": \"contourcarpet\"}], \"heatmap\": [{\"colorbar\": {\"outlinewidth\": 0, \"ticks\": \"\"}, \"colorscale\": [[0.0, \"#0d0887\"], [0.1111111111111111, \"#46039f\"], [0.2222222222222222, \"#7201a8\"], [0.3333333333333333, \"#9c179e\"], [0.4444444444444444, \"#bd3786\"], [0.5555555555555556, \"#d8576b\"], [0.6666666666666666, \"#ed7953\"], [0.7777777777777778, \"#fb9f3a\"], [0.8888888888888888, \"#fdca26\"], [1.0, \"#f0f921\"]], \"type\": \"heatmap\"}], \"heatmapgl\": [{\"colorbar\": {\"outlinewidth\": 0, \"ticks\": \"\"}, \"colorscale\": [[0.0, \"#0d0887\"], [0.1111111111111111, \"#46039f\"], [0.2222222222222222, \"#7201a8\"], [0.3333333333333333, \"#9c179e\"], [0.4444444444444444, \"#bd3786\"], [0.5555555555555556, \"#d8576b\"], [0.6666666666666666, \"#ed7953\"], [0.7777777777777778, \"#fb9f3a\"], [0.8888888888888888, \"#fdca26\"], [1.0, \"#f0f921\"]], \"type\": \"heatmapgl\"}], \"histogram\": [{\"marker\": {\"colorbar\": {\"outlinewidth\": 0, \"ticks\": \"\"}}, \"type\": \"histogram\"}], \"histogram2d\": [{\"colorbar\": {\"outlinewidth\": 0, \"ticks\": \"\"}, \"colorscale\": [[0.0, \"#0d0887\"], [0.1111111111111111, \"#46039f\"], [0.2222222222222222, \"#7201a8\"], [0.3333333333333333, \"#9c179e\"], [0.4444444444444444, \"#bd3786\"], [0.5555555555555556, \"#d8576b\"], [0.6666666666666666, \"#ed7953\"], [0.7777777777777778, \"#fb9f3a\"], [0.8888888888888888, \"#fdca26\"], [1.0, \"#f0f921\"]], \"type\": \"histogram2d\"}], \"histogram2dcontour\": [{\"colorbar\": {\"outlinewidth\": 0, \"ticks\": \"\"}, \"colorscale\": [[0.0, \"#0d0887\"], [0.1111111111111111, \"#46039f\"], [0.2222222222222222, \"#7201a8\"], [0.3333333333333333, \"#9c179e\"], [0.4444444444444444, \"#bd3786\"], [0.5555555555555556, \"#d8576b\"], [0.6666666666666666, \"#ed7953\"], [0.7777777777777778, \"#fb9f3a\"], [0.8888888888888888, \"#fdca26\"], [1.0, \"#f0f921\"]], \"type\": \"histogram2dcontour\"}], \"mesh3d\": [{\"colorbar\": {\"outlinewidth\": 0, \"ticks\": \"\"}, \"type\": \"mesh3d\"}], \"parcoords\": [{\"line\": {\"colorbar\": {\"outlinewidth\": 0, \"ticks\": \"\"}}, \"type\": \"parcoords\"}], \"pie\": [{\"automargin\": true, \"type\": \"pie\"}], \"scatter\": [{\"marker\": {\"colorbar\": {\"outlinewidth\": 0, \"ticks\": \"\"}}, \"type\": \"scatter\"}], \"scatter3d\": [{\"line\": {\"colorbar\": {\"outlinewidth\": 0, \"ticks\": \"\"}}, \"marker\": {\"colorbar\": {\"outlinewidth\": 0, \"ticks\": \"\"}}, \"type\": \"scatter3d\"}], \"scattercarpet\": [{\"marker\": {\"colorbar\": {\"outlinewidth\": 0, \"ticks\": \"\"}}, \"type\": \"scattercarpet\"}], \"scattergeo\": [{\"marker\": {\"colorbar\": {\"outlinewidth\": 0, \"ticks\": \"\"}}, \"type\": \"scattergeo\"}], \"scattergl\": [{\"marker\": {\"colorbar\": {\"outlinewidth\": 0, \"ticks\": \"\"}}, \"type\": \"scattergl\"}], \"scattermapbox\": [{\"marker\": {\"colorbar\": {\"outlinewidth\": 0, \"ticks\": \"\"}}, \"type\": \"scattermapbox\"}], \"scatterpolar\": [{\"marker\": {\"colorbar\": {\"outlinewidth\": 0, \"ticks\": \"\"}}, \"type\": \"scatterpolar\"}], \"scatterpolargl\": [{\"marker\": {\"colorbar\": {\"outlinewidth\": 0, \"ticks\": \"\"}}, \"type\": \"scatterpolargl\"}], \"scatterternary\": [{\"marker\": {\"colorbar\": {\"outlinewidth\": 0, \"ticks\": \"\"}}, \"type\": \"scatterternary\"}], \"surface\": [{\"colorbar\": {\"outlinewidth\": 0, \"ticks\": \"\"}, \"colorscale\": [[0.0, \"#0d0887\"], [0.1111111111111111, \"#46039f\"], [0.2222222222222222, \"#7201a8\"], [0.3333333333333333, \"#9c179e\"], [0.4444444444444444, \"#bd3786\"], [0.5555555555555556, \"#d8576b\"], [0.6666666666666666, \"#ed7953\"], [0.7777777777777778, \"#fb9f3a\"], [0.8888888888888888, \"#fdca26\"], [1.0, \"#f0f921\"]], \"type\": \"surface\"}], \"table\": [{\"cells\": {\"fill\": {\"color\": \"#EBF0F8\"}, \"line\": {\"color\": \"white\"}}, \"header\": {\"fill\": {\"color\": \"#C8D4E3\"}, \"line\": {\"color\": \"white\"}}, \"type\": \"table\"}]}, \"layout\": {\"annotationdefaults\": {\"arrowcolor\": \"#2a3f5f\", \"arrowhead\": 0, \"arrowwidth\": 1}, \"coloraxis\": {\"colorbar\": {\"outlinewidth\": 0, \"ticks\": \"\"}}, \"colorscale\": {\"diverging\": [[0, \"#8e0152\"], [0.1, \"#c51b7d\"], [0.2, \"#de77ae\"], [0.3, \"#f1b6da\"], [0.4, \"#fde0ef\"], [0.5, \"#f7f7f7\"], [0.6, \"#e6f5d0\"], [0.7, \"#b8e186\"], [0.8, \"#7fbc41\"], [0.9, \"#4d9221\"], [1, \"#276419\"]], \"sequential\": [[0.0, \"#0d0887\"], [0.1111111111111111, \"#46039f\"], [0.2222222222222222, \"#7201a8\"], [0.3333333333333333, \"#9c179e\"], [0.4444444444444444, \"#bd3786\"], [0.5555555555555556, \"#d8576b\"], [0.6666666666666666, \"#ed7953\"], [0.7777777777777778, \"#fb9f3a\"], [0.8888888888888888, \"#fdca26\"], [1.0, \"#f0f921\"]], \"sequentialminus\": [[0.0, \"#0d0887\"], [0.1111111111111111, \"#46039f\"], [0.2222222222222222, \"#7201a8\"], [0.3333333333333333, \"#9c179e\"], [0.4444444444444444, \"#bd3786\"], [0.5555555555555556, \"#d8576b\"], [0.6666666666666666, \"#ed7953\"], [0.7777777777777778, \"#fb9f3a\"], [0.8888888888888888, \"#fdca26\"], [1.0, \"#f0f921\"]]}, \"colorway\": [\"#636efa\", \"#EF553B\", \"#00cc96\", \"#ab63fa\", \"#FFA15A\", \"#19d3f3\", \"#FF6692\", \"#B6E880\", \"#FF97FF\", \"#FECB52\"], \"font\": {\"color\": \"#2a3f5f\"}, \"geo\": {\"bgcolor\": \"white\", \"lakecolor\": \"white\", \"landcolor\": \"#E5ECF6\", \"showlakes\": true, \"showland\": true, \"subunitcolor\": \"white\"}, \"hoverlabel\": {\"align\": \"left\"}, \"hovermode\": \"closest\", \"mapbox\": {\"style\": \"light\"}, \"paper_bgcolor\": \"white\", \"plot_bgcolor\": \"#E5ECF6\", \"polar\": {\"angularaxis\": {\"gridcolor\": \"white\", \"linecolor\": \"white\", \"ticks\": \"\"}, \"bgcolor\": \"#E5ECF6\", \"radialaxis\": {\"gridcolor\": \"white\", \"linecolor\": \"white\", \"ticks\": \"\"}}, \"scene\": {\"xaxis\": {\"backgroundcolor\": \"#E5ECF6\", \"gridcolor\": \"white\", \"gridwidth\": 2, \"linecolor\": \"white\", \"showbackground\": true, \"ticks\": \"\", \"zerolinecolor\": \"white\"}, \"yaxis\": {\"backgroundcolor\": \"#E5ECF6\", \"gridcolor\": \"white\", \"gridwidth\": 2, \"linecolor\": \"white\", \"showbackground\": true, \"ticks\": \"\", \"zerolinecolor\": \"white\"}, \"zaxis\": {\"backgroundcolor\": \"#E5ECF6\", \"gridcolor\": \"white\", \"gridwidth\": 2, \"linecolor\": \"white\", \"showbackground\": true, \"ticks\": \"\", \"zerolinecolor\": \"white\"}}, \"shapedefaults\": {\"line\": {\"color\": \"#2a3f5f\"}}, \"ternary\": {\"aaxis\": {\"gridcolor\": \"white\", \"linecolor\": \"white\", \"ticks\": \"\"}, \"baxis\": {\"gridcolor\": \"white\", \"linecolor\": \"white\", \"ticks\": \"\"}, \"bgcolor\": \"#E5ECF6\", \"caxis\": {\"gridcolor\": \"white\", \"linecolor\": \"white\", \"ticks\": \"\"}}, \"title\": {\"x\": 0.05}, \"xaxis\": {\"automargin\": true, \"gridcolor\": \"white\", \"linecolor\": \"white\", \"ticks\": \"\", \"title\": {\"standoff\": 15}, \"zerolinecolor\": \"white\", \"zerolinewidth\": 2}, \"yaxis\": {\"automargin\": true, \"gridcolor\": \"white\", \"linecolor\": \"white\", \"ticks\": \"\", \"title\": {\"standoff\": 15}, \"zerolinecolor\": \"white\", \"zerolinewidth\": 2}}}, \"width\": 800, \"xaxis\": {\"anchor\": \"y\", \"domain\": [0.0, 1.0], \"title\": {\"text\": \"age\"}}, \"yaxis\": {\"anchor\": \"x\", \"domain\": [0.0, 1.0], \"title\": {\"text\": \"count\"}}},\n",
       "                        {\"responsive\": true}\n",
       "                    ).then(function(){\n",
       "                            \n",
       "var gd = document.getElementById('e660b8d5-9e0a-406f-be12-ca478b83f564');\n",
       "var x = new MutationObserver(function (mutations, observer) {{\n",
       "        var display = window.getComputedStyle(gd).display;\n",
       "        if (!display || display === 'none') {{\n",
       "            console.log([gd, 'removed!']);\n",
       "            Plotly.purge(gd);\n",
       "            observer.disconnect();\n",
       "        }}\n",
       "}});\n",
       "\n",
       "// Listen for the removal of the full notebook cells\n",
       "var notebookContainer = gd.closest('#notebook-container');\n",
       "if (notebookContainer) {{\n",
       "    x.observe(notebookContainer, {childList: true});\n",
       "}}\n",
       "\n",
       "// Listen for the clearing of the current output cell\n",
       "var outputEl = gd.closest('.output');\n",
       "if (outputEl) {{\n",
       "    x.observe(outputEl, {childList: true});\n",
       "}}\n",
       "\n",
       "                        })\n",
       "                };\n",
       "                \n",
       "            </script>\n",
       "        </div>\n",
       "</body>\n",
       "</html>"
      ]
     },
     "metadata": {
      "tags": []
     },
     "output_type": "display_data"
    }
   ],
   "source": [
    "#create a histogram for the age\n",
    "import plotly.express as px\n",
    "fig = px.histogram(player_bio['age'], x=\"age\",width=800, height=400)\n",
    "fig.show()"
   ]
  },
  {
   "cell_type": "markdown",
   "metadata": {
    "colab_type": "text",
    "id": "pKuchpWLFyfl"
   },
   "source": [
    "### Analysis: Player Performance and Salary"
   ]
  },
  {
   "cell_type": "markdown",
   "metadata": {
    "colab_type": "text",
    "id": "i3FZnFxJKA8v"
   },
   "source": [
    "NBA teams make billions of dollars every year, and they also paid billions to the players on court. NBA teams must have considered every aspect of a player, before offering the big contract. However, there will always be some overpaid players who perform weakly or being injured. No matter what reasons, we’re here to discover those “overpaid heroes”.\n",
    "\n"
   ]
  },
  {
   "cell_type": "markdown",
   "metadata": {
    "colab_type": "text",
    "id": "pc7sl4qgMn2f"
   },
   "source": [
    "To identify those players, we'll use previous player performace data and merge salary data.\n",
    "\n",
    "*salary data was downloaded from https://www.basketball-reference.com/*"
   ]
  },
  {
   "cell_type": "markdown",
   "metadata": {
    "colab_type": "text",
    "id": "k1z7yYAmM5V1"
   },
   "source": [
    "Player's salary in season 2019-20."
   ]
  },
  {
   "cell_type": "code",
   "execution_count": 0,
   "metadata": {
    "colab": {
     "base_uri": "https://localhost:8080/",
     "height": 417
    },
    "colab_type": "code",
    "id": "E8gsf3yNRUWn",
    "outputId": "e919d6b7-69ab-4589-af6e-919ad0f6124c"
   },
   "outputs": [
    {
     "data": {
      "text/html": [
       "<div>\n",
       "<style scoped>\n",
       "    .dataframe tbody tr th:only-of-type {\n",
       "        vertical-align: middle;\n",
       "    }\n",
       "\n",
       "    .dataframe tbody tr th {\n",
       "        vertical-align: top;\n",
       "    }\n",
       "\n",
       "    .dataframe thead th {\n",
       "        text-align: right;\n",
       "    }\n",
       "</style>\n",
       "<table border=\"1\" class=\"dataframe\">\n",
       "  <thead>\n",
       "    <tr style=\"text-align: right;\">\n",
       "      <th></th>\n",
       "      <th>Player</th>\n",
       "      <th>Tm</th>\n",
       "      <th>2019-20</th>\n",
       "    </tr>\n",
       "  </thead>\n",
       "  <tbody>\n",
       "    <tr>\n",
       "      <th>0</th>\n",
       "      <td>Stephen Curry</td>\n",
       "      <td>GSW</td>\n",
       "      <td>40231758</td>\n",
       "    </tr>\n",
       "    <tr>\n",
       "      <th>1</th>\n",
       "      <td>Chris Paul</td>\n",
       "      <td>OKC</td>\n",
       "      <td>38506482</td>\n",
       "    </tr>\n",
       "    <tr>\n",
       "      <th>2</th>\n",
       "      <td>Russell Westbrook</td>\n",
       "      <td>HOU</td>\n",
       "      <td>38178000</td>\n",
       "    </tr>\n",
       "    <tr>\n",
       "      <th>3</th>\n",
       "      <td>John Wall</td>\n",
       "      <td>WAS</td>\n",
       "      <td>37800000</td>\n",
       "    </tr>\n",
       "    <tr>\n",
       "      <th>4</th>\n",
       "      <td>James Harden</td>\n",
       "      <td>HOU</td>\n",
       "      <td>37800000</td>\n",
       "    </tr>\n",
       "    <tr>\n",
       "      <th>...</th>\n",
       "      <td>...</td>\n",
       "      <td>...</td>\n",
       "      <td>...</td>\n",
       "    </tr>\n",
       "    <tr>\n",
       "      <th>540</th>\n",
       "      <td>William Howard</td>\n",
       "      <td>UTA</td>\n",
       "      <td>50000</td>\n",
       "    </tr>\n",
       "    <tr>\n",
       "      <th>541</th>\n",
       "      <td>Isaiah Taylor</td>\n",
       "      <td>TOR</td>\n",
       "      <td>50000</td>\n",
       "    </tr>\n",
       "    <tr>\n",
       "      <th>542</th>\n",
       "      <td>Tyler Lydon</td>\n",
       "      <td>SAC</td>\n",
       "      <td>50000</td>\n",
       "    </tr>\n",
       "    <tr>\n",
       "      <th>543</th>\n",
       "      <td>Hollis Thompson</td>\n",
       "      <td>SAC</td>\n",
       "      <td>50000</td>\n",
       "    </tr>\n",
       "    <tr>\n",
       "      <th>544</th>\n",
       "      <td>Tyler Ulis</td>\n",
       "      <td>SAC</td>\n",
       "      <td>50000</td>\n",
       "    </tr>\n",
       "  </tbody>\n",
       "</table>\n",
       "<p>545 rows × 3 columns</p>\n",
       "</div>"
      ],
      "text/plain": [
       "                Player   Tm   2019-20\n",
       "0        Stephen Curry  GSW  40231758\n",
       "1           Chris Paul  OKC  38506482\n",
       "2    Russell Westbrook  HOU  38178000\n",
       "3            John Wall  WAS  37800000\n",
       "4         James Harden  HOU  37800000\n",
       "..                 ...  ...       ...\n",
       "540     William Howard  UTA     50000\n",
       "541      Isaiah Taylor  TOR     50000\n",
       "542        Tyler Lydon  SAC     50000\n",
       "543    Hollis Thompson  SAC     50000\n",
       "544         Tyler Ulis  SAC     50000\n",
       "\n",
       "[545 rows x 3 columns]"
      ]
     },
     "execution_count": 15,
     "metadata": {
      "tags": []
     },
     "output_type": "execute_result"
    }
   ],
   "source": [
    "#import salary data\n",
    "player_salary = pd.read_csv(url+\"salary2.csv\")\n",
    "#select desired column\n",
    "player_salary=player_salary.iloc[:,1:4]\n",
    "#clean data\n",
    "player_salary['Player'] = player_salary['Player'].str.split('\\\\',expand=True)[0]\n",
    "player_salary['2019-20']=player_salary['2019-20'].str.replace('[$,]+', '',regex=True).astype(int)\n",
    "player_salary"
   ]
  },
  {
   "cell_type": "markdown",
   "metadata": {
    "colab_type": "text",
    "id": "jxxNYRvdM_aR"
   },
   "source": [
    "Players with top 5 salary."
   ]
  },
  {
   "cell_type": "code",
   "execution_count": 0,
   "metadata": {
    "colab": {
     "base_uri": "https://localhost:8080/",
     "height": 203
    },
    "colab_type": "code",
    "id": "GdMKBFfSYSZp",
    "outputId": "95913427-1a52-4942-fac3-5b3f41eecfb4"
   },
   "outputs": [
    {
     "data": {
      "text/html": [
       "<div>\n",
       "<style scoped>\n",
       "    .dataframe tbody tr th:only-of-type {\n",
       "        vertical-align: middle;\n",
       "    }\n",
       "\n",
       "    .dataframe tbody tr th {\n",
       "        vertical-align: top;\n",
       "    }\n",
       "\n",
       "    .dataframe thead th {\n",
       "        text-align: right;\n",
       "    }\n",
       "</style>\n",
       "<table border=\"1\" class=\"dataframe\">\n",
       "  <thead>\n",
       "    <tr style=\"text-align: right;\">\n",
       "      <th></th>\n",
       "      <th>Player</th>\n",
       "      <th>Tm</th>\n",
       "      <th>2019-20</th>\n",
       "    </tr>\n",
       "  </thead>\n",
       "  <tbody>\n",
       "    <tr>\n",
       "      <th>0</th>\n",
       "      <td>Stephen Curry</td>\n",
       "      <td>GSW</td>\n",
       "      <td>40231758</td>\n",
       "    </tr>\n",
       "    <tr>\n",
       "      <th>1</th>\n",
       "      <td>Chris Paul</td>\n",
       "      <td>OKC</td>\n",
       "      <td>38506482</td>\n",
       "    </tr>\n",
       "    <tr>\n",
       "      <th>2</th>\n",
       "      <td>Russell Westbrook</td>\n",
       "      <td>HOU</td>\n",
       "      <td>38178000</td>\n",
       "    </tr>\n",
       "    <tr>\n",
       "      <th>3</th>\n",
       "      <td>John Wall</td>\n",
       "      <td>WAS</td>\n",
       "      <td>37800000</td>\n",
       "    </tr>\n",
       "    <tr>\n",
       "      <th>4</th>\n",
       "      <td>James Harden</td>\n",
       "      <td>HOU</td>\n",
       "      <td>37800000</td>\n",
       "    </tr>\n",
       "  </tbody>\n",
       "</table>\n",
       "</div>"
      ],
      "text/plain": [
       "              Player   Tm   2019-20\n",
       "0      Stephen Curry  GSW  40231758\n",
       "1         Chris Paul  OKC  38506482\n",
       "2  Russell Westbrook  HOU  38178000\n",
       "3          John Wall  WAS  37800000\n",
       "4       James Harden  HOU  37800000"
      ]
     },
     "execution_count": 16,
     "metadata": {
      "tags": []
     },
     "output_type": "execute_result"
    }
   ],
   "source": [
    "top_salary=player_salary[player_salary.index<51]  #who's salary >= 20 million per year\n",
    "top_salary.head(5)"
   ]
  },
  {
   "cell_type": "code",
   "execution_count": 0,
   "metadata": {
    "colab": {
     "base_uri": "https://localhost:8080/",
     "height": 203
    },
    "colab_type": "code",
    "id": "3jnxpS13a11v",
    "outputId": "ca7a8550-8185-49d0-c841-3d13129f2c40"
   },
   "outputs": [
    {
     "data": {
      "text/html": [
       "<div>\n",
       "<style scoped>\n",
       "    .dataframe tbody tr th:only-of-type {\n",
       "        vertical-align: middle;\n",
       "    }\n",
       "\n",
       "    .dataframe tbody tr th {\n",
       "        vertical-align: top;\n",
       "    }\n",
       "\n",
       "    .dataframe thead th {\n",
       "        text-align: right;\n",
       "    }\n",
       "</style>\n",
       "<table border=\"1\" class=\"dataframe\">\n",
       "  <thead>\n",
       "    <tr style=\"text-align: right;\">\n",
       "      <th></th>\n",
       "      <th>PLAYER_NAME</th>\n",
       "      <th>PTS</th>\n",
       "      <th>REB</th>\n",
       "      <th>AST</th>\n",
       "      <th>STL</th>\n",
       "      <th>BLK</th>\n",
       "      <th>FGA</th>\n",
       "      <th>FGM</th>\n",
       "      <th>FTA</th>\n",
       "      <th>FTM</th>\n",
       "      <th>TO</th>\n",
       "      <th>EFF</th>\n",
       "      <th>2019-20</th>\n",
       "    </tr>\n",
       "  </thead>\n",
       "  <tbody>\n",
       "    <tr>\n",
       "      <th>0</th>\n",
       "      <td>Stephen Curry</td>\n",
       "      <td>23.50</td>\n",
       "      <td>3.88</td>\n",
       "      <td>5.38</td>\n",
       "      <td>1.38</td>\n",
       "      <td>0.75</td>\n",
       "      <td>16.62</td>\n",
       "      <td>7.62</td>\n",
       "      <td>5.25</td>\n",
       "      <td>5.12</td>\n",
       "      <td>3.25</td>\n",
       "      <td>22.50</td>\n",
       "      <td>40231758</td>\n",
       "    </tr>\n",
       "    <tr>\n",
       "      <th>1</th>\n",
       "      <td>Chris Paul</td>\n",
       "      <td>17.35</td>\n",
       "      <td>4.97</td>\n",
       "      <td>6.63</td>\n",
       "      <td>1.50</td>\n",
       "      <td>0.13</td>\n",
       "      <td>12.60</td>\n",
       "      <td>6.12</td>\n",
       "      <td>3.93</td>\n",
       "      <td>3.52</td>\n",
       "      <td>2.13</td>\n",
       "      <td>21.55</td>\n",
       "      <td>38506482</td>\n",
       "    </tr>\n",
       "    <tr>\n",
       "      <th>2</th>\n",
       "      <td>Russell Westbrook</td>\n",
       "      <td>26.74</td>\n",
       "      <td>7.57</td>\n",
       "      <td>6.96</td>\n",
       "      <td>1.70</td>\n",
       "      <td>0.32</td>\n",
       "      <td>22.08</td>\n",
       "      <td>10.38</td>\n",
       "      <td>6.40</td>\n",
       "      <td>4.94</td>\n",
       "      <td>4.43</td>\n",
       "      <td>25.70</td>\n",
       "      <td>38178000</td>\n",
       "    </tr>\n",
       "    <tr>\n",
       "      <th>3</th>\n",
       "      <td>John Wall</td>\n",
       "      <td>NaN</td>\n",
       "      <td>NaN</td>\n",
       "      <td>NaN</td>\n",
       "      <td>NaN</td>\n",
       "      <td>NaN</td>\n",
       "      <td>NaN</td>\n",
       "      <td>NaN</td>\n",
       "      <td>NaN</td>\n",
       "      <td>NaN</td>\n",
       "      <td>NaN</td>\n",
       "      <td>NaN</td>\n",
       "      <td>37800000</td>\n",
       "    </tr>\n",
       "    <tr>\n",
       "      <th>4</th>\n",
       "      <td>James Harden</td>\n",
       "      <td>34.95</td>\n",
       "      <td>6.31</td>\n",
       "      <td>7.34</td>\n",
       "      <td>1.72</td>\n",
       "      <td>0.87</td>\n",
       "      <td>22.82</td>\n",
       "      <td>10.10</td>\n",
       "      <td>11.82</td>\n",
       "      <td>10.13</td>\n",
       "      <td>4.38</td>\n",
       "      <td>32.41</td>\n",
       "      <td>37800000</td>\n",
       "    </tr>\n",
       "  </tbody>\n",
       "</table>\n",
       "</div>"
      ],
      "text/plain": [
       "         PLAYER_NAME    PTS   REB   AST  ...    FTM    TO    EFF   2019-20\n",
       "0      Stephen Curry  23.50  3.88  5.38  ...   5.12  3.25  22.50  40231758\n",
       "1         Chris Paul  17.35  4.97  6.63  ...   3.52  2.13  21.55  38506482\n",
       "2  Russell Westbrook  26.74  7.57  6.96  ...   4.94  4.43  25.70  38178000\n",
       "3          John Wall    NaN   NaN   NaN  ...    NaN   NaN    NaN  37800000\n",
       "4       James Harden  34.95  6.31  7.34  ...  10.13  4.38  32.41  37800000\n",
       "\n",
       "[5 rows x 13 columns]"
      ]
     },
     "execution_count": 17,
     "metadata": {
      "tags": []
     },
     "output_type": "execute_result"
    }
   ],
   "source": [
    "top_player_salary_eff=pd.merge(player_per,top_salary,left_on='PLAYER_NAME',right_on='Player',how='inner')\n",
    "top_player_salary_eff=top_player_salary_eff.sort_values('2019-20', ascending=False).reset_index(drop=True)\n",
    "top_player_salary_eff.iloc[:,1:12]=top_player_salary_eff.iloc[:,1:12].apply(lambda x: round(x,2))\n",
    "top_player_salary_eff=top_player_salary_eff.iloc[:,np.r_[0:12,14]]\n",
    "top_player_salary_eff.head(5)"
   ]
  },
  {
   "cell_type": "code",
   "execution_count": 0,
   "metadata": {
    "colab": {
     "base_uri": "https://localhost:8080/",
     "height": 203
    },
    "colab_type": "code",
    "id": "wdu4_JCGjPvr",
    "outputId": "9b947434-92be-4bff-d799-94a070ffb854"
   },
   "outputs": [
    {
     "data": {
      "text/html": [
       "<div>\n",
       "<style scoped>\n",
       "    .dataframe tbody tr th:only-of-type {\n",
       "        vertical-align: middle;\n",
       "    }\n",
       "\n",
       "    .dataframe tbody tr th {\n",
       "        vertical-align: top;\n",
       "    }\n",
       "\n",
       "    .dataframe thead th {\n",
       "        text-align: right;\n",
       "    }\n",
       "</style>\n",
       "<table border=\"1\" class=\"dataframe\">\n",
       "  <thead>\n",
       "    <tr style=\"text-align: right;\">\n",
       "      <th></th>\n",
       "      <th>PLAYER_NAME</th>\n",
       "      <th>PTS</th>\n",
       "      <th>REB</th>\n",
       "      <th>AST</th>\n",
       "      <th>STL</th>\n",
       "      <th>BLK</th>\n",
       "      <th>FGA</th>\n",
       "      <th>FGM</th>\n",
       "      <th>FTA</th>\n",
       "      <th>FTM</th>\n",
       "      <th>TO</th>\n",
       "      <th>EFF</th>\n",
       "      <th>2019-20</th>\n",
       "    </tr>\n",
       "  </thead>\n",
       "  <tbody>\n",
       "    <tr>\n",
       "      <th>3</th>\n",
       "      <td>John Wall</td>\n",
       "      <td>NaN</td>\n",
       "      <td>NaN</td>\n",
       "      <td>NaN</td>\n",
       "      <td>NaN</td>\n",
       "      <td>NaN</td>\n",
       "      <td>NaN</td>\n",
       "      <td>NaN</td>\n",
       "      <td>NaN</td>\n",
       "      <td>NaN</td>\n",
       "      <td>NaN</td>\n",
       "      <td>NaN</td>\n",
       "      <td>37800000</td>\n",
       "    </tr>\n",
       "    <tr>\n",
       "      <th>6</th>\n",
       "      <td>Kevin Durant</td>\n",
       "      <td>NaN</td>\n",
       "      <td>NaN</td>\n",
       "      <td>NaN</td>\n",
       "      <td>NaN</td>\n",
       "      <td>NaN</td>\n",
       "      <td>NaN</td>\n",
       "      <td>NaN</td>\n",
       "      <td>NaN</td>\n",
       "      <td>NaN</td>\n",
       "      <td>NaN</td>\n",
       "      <td>NaN</td>\n",
       "      <td>37199000</td>\n",
       "    </tr>\n",
       "    <tr>\n",
       "      <th>11</th>\n",
       "      <td>Klay Thompson</td>\n",
       "      <td>NaN</td>\n",
       "      <td>NaN</td>\n",
       "      <td>NaN</td>\n",
       "      <td>NaN</td>\n",
       "      <td>NaN</td>\n",
       "      <td>NaN</td>\n",
       "      <td>NaN</td>\n",
       "      <td>NaN</td>\n",
       "      <td>NaN</td>\n",
       "      <td>NaN</td>\n",
       "      <td>NaN</td>\n",
       "      <td>32742000</td>\n",
       "    </tr>\n",
       "    <tr>\n",
       "      <th>44</th>\n",
       "      <td>Chandler Parsons</td>\n",
       "      <td>2.8</td>\n",
       "      <td>1.4</td>\n",
       "      <td>0.6</td>\n",
       "      <td>0.8</td>\n",
       "      <td>0.2</td>\n",
       "      <td>3.6</td>\n",
       "      <td>1.0</td>\n",
       "      <td>0.0</td>\n",
       "      <td>0.0</td>\n",
       "      <td>0.6</td>\n",
       "      <td>2.6</td>\n",
       "      <td>25102511</td>\n",
       "    </tr>\n",
       "    <tr>\n",
       "      <th>49</th>\n",
       "      <td>Victor Oladipo</td>\n",
       "      <td>12.0</td>\n",
       "      <td>2.7</td>\n",
       "      <td>2.4</td>\n",
       "      <td>0.8</td>\n",
       "      <td>0.1</td>\n",
       "      <td>11.7</td>\n",
       "      <td>4.3</td>\n",
       "      <td>2.6</td>\n",
       "      <td>2.0</td>\n",
       "      <td>2.0</td>\n",
       "      <td>8.0</td>\n",
       "      <td>21000000</td>\n",
       "    </tr>\n",
       "  </tbody>\n",
       "</table>\n",
       "</div>"
      ],
      "text/plain": [
       "         PLAYER_NAME   PTS  REB  AST  STL  ...  FTA  FTM   TO  EFF   2019-20\n",
       "3          John Wall   NaN  NaN  NaN  NaN  ...  NaN  NaN  NaN  NaN  37800000\n",
       "6       Kevin Durant   NaN  NaN  NaN  NaN  ...  NaN  NaN  NaN  NaN  37199000\n",
       "11     Klay Thompson   NaN  NaN  NaN  NaN  ...  NaN  NaN  NaN  NaN  32742000\n",
       "44  Chandler Parsons   2.8  1.4  0.6  0.8  ...  0.0  0.0  0.6  2.6  25102511\n",
       "49    Victor Oladipo  12.0  2.7  2.4  0.8  ...  2.6  2.0  2.0  8.0  21000000\n",
       "\n",
       "[5 rows x 13 columns]"
      ]
     },
     "execution_count": 18,
     "metadata": {
      "tags": []
     },
     "output_type": "execute_result"
    }
   ],
   "source": [
    "top_player_salary_eff.sort_values('EFF',na_position='first').head(5)"
   ]
  },
  {
   "cell_type": "markdown",
   "metadata": {
    "colab_type": "text",
    "id": "QimChzq_nHQ1"
   },
   "source": [
    "As you can see from above table, the top 6 players which have EFF less than 10. Players names are: John Wall, Kevin Durant, Klay Thompson, Chandler Parsons, Victor Oladipo, Nicolas Batum. These players took large amount of money but contributed little for this season. We have to say they are overpaid this season. More details, Chandler Parsons actually had a severe injury(car accident) at the beginning of the season.  John Wall, Kevin Durant, Klay Thompson all have injuries from last season(Didn't even play for this season for 1 game!). As for Victor Oladipo, who had just played 13 games this season, suffering from injury last season as well. Nikolas Batum also suffered from injury, had only played 22 games this season.\n",
    "\n",
    "To conclude, injury is the most likely cause of bad performance. In order to avoid overpaid situation, team's organizations should do their best to help prevent such injuries or accidents happening to their highly-paid(all-star) players. "
   ]
  },
  {
   "cell_type": "code",
   "execution_count": 0,
   "metadata": {
    "colab": {
     "base_uri": "https://localhost:8080/",
     "height": 385
    },
    "colab_type": "code",
    "id": "25ahZeBP04mu",
    "outputId": "b5ba8866-dfdb-4afb-d814-8a2084ded3fd"
   },
   "outputs": [
    {
     "data": {
      "image/png": "[encoded data removed]",
      "text/plain": [
       "<Figure size 360x360 with 1 Axes>"
      ]
     },
     "metadata": {
      "needs_background": "light",
      "tags": []
     },
     "output_type": "display_data"
    }
   ],
   "source": [
    "player_salary_eff=pd.merge(player_per,player_salary,left_on='PLAYER_NAME',right_on='Player',how='inner')\n",
    "\n",
    "import seaborn as sns\n",
    "\n",
    "ax = sns.lmplot('2019-20','EFF',data=player_salary_eff)\n",
    "ax.set(xlabel=\"Player's salary\", ylabel='EFF', title='Salary/Performance');"
   ]
  },
  {
   "cell_type": "markdown",
   "metadata": {
    "colab_type": "text",
    "id": "ETIAhC-iN9Gk"
   },
   "source": [
    "### Analysis: Prediction of teams that enter playoffs"
   ]
  },
  {
   "cell_type": "code",
   "execution_count": 0,
   "metadata": {
    "colab": {
     "base_uri": "https://localhost:8080/",
     "height": 204
    },
    "colab_type": "code",
    "id": "KAmTarXeq1wu",
    "outputId": "9da6a7dd-274c-49af-e60c-f537e91328d0"
   },
   "outputs": [
    {
     "data": {
      "text/html": [
       "<div>\n",
       "<style scoped>\n",
       "    .dataframe tbody tr th:only-of-type {\n",
       "        vertical-align: middle;\n",
       "    }\n",
       "\n",
       "    .dataframe tbody tr th {\n",
       "        vertical-align: top;\n",
       "    }\n",
       "\n",
       "    .dataframe thead th {\n",
       "        text-align: right;\n",
       "    }\n",
       "</style>\n",
       "<table border=\"1\" class=\"dataframe\">\n",
       "  <thead>\n",
       "    <tr style=\"text-align: right;\">\n",
       "      <th></th>\n",
       "      <th>TEAM_ID</th>\n",
       "      <th>NICKNAME</th>\n",
       "      <th>PTS</th>\n",
       "      <th>FG_PCT</th>\n",
       "      <th>FT_PCT</th>\n",
       "      <th>FG3_PCT</th>\n",
       "      <th>AST</th>\n",
       "      <th>REB</th>\n",
       "      <th>WINRATE</th>\n",
       "      <th>playoffs</th>\n",
       "    </tr>\n",
       "  </thead>\n",
       "  <tbody>\n",
       "    <tr>\n",
       "      <th>0</th>\n",
       "      <td>1610612737</td>\n",
       "      <td>Hawks</td>\n",
       "      <td>0.846619</td>\n",
       "      <td>0.451780</td>\n",
       "      <td>0.751817</td>\n",
       "      <td>0.350976</td>\n",
       "      <td>0.631787</td>\n",
       "      <td>0.717268</td>\n",
       "      <td>0.353659</td>\n",
       "      <td>0</td>\n",
       "    </tr>\n",
       "    <tr>\n",
       "      <th>1</th>\n",
       "      <td>1610612738</td>\n",
       "      <td>Celtics</td>\n",
       "      <td>0.816099</td>\n",
       "      <td>0.465829</td>\n",
       "      <td>0.806378</td>\n",
       "      <td>0.363012</td>\n",
       "      <td>0.668312</td>\n",
       "      <td>0.596774</td>\n",
       "      <td>0.597561</td>\n",
       "      <td>1</td>\n",
       "    </tr>\n",
       "    <tr>\n",
       "      <th>2</th>\n",
       "      <td>1610612739</td>\n",
       "      <td>Cavaliers</td>\n",
       "      <td>0.562160</td>\n",
       "      <td>0.444756</td>\n",
       "      <td>0.786195</td>\n",
       "      <td>0.352024</td>\n",
       "      <td>0.217177</td>\n",
       "      <td>0.449715</td>\n",
       "      <td>0.231707</td>\n",
       "      <td>0</td>\n",
       "    </tr>\n",
       "    <tr>\n",
       "      <th>3</th>\n",
       "      <td>1610612740</td>\n",
       "      <td>Pelicans</td>\n",
       "      <td>0.913919</td>\n",
       "      <td>0.474561</td>\n",
       "      <td>0.757463</td>\n",
       "      <td>0.344073</td>\n",
       "      <td>0.728529</td>\n",
       "      <td>0.810247</td>\n",
       "      <td>0.402439</td>\n",
       "      <td>0</td>\n",
       "    </tr>\n",
       "    <tr>\n",
       "      <th>4</th>\n",
       "      <td>1610612741</td>\n",
       "      <td>Bulls</td>\n",
       "      <td>0.577028</td>\n",
       "      <td>0.454183</td>\n",
       "      <td>0.788293</td>\n",
       "      <td>0.349183</td>\n",
       "      <td>0.313919</td>\n",
       "      <td>0.467742</td>\n",
       "      <td>0.268293</td>\n",
       "      <td>0</td>\n",
       "    </tr>\n",
       "  </tbody>\n",
       "</table>\n",
       "</div>"
      ],
      "text/plain": [
       "      TEAM_ID   NICKNAME       PTS  ...       REB   WINRATE  playoffs\n",
       "0  1610612737      Hawks  0.846619  ...  0.717268  0.353659         0\n",
       "1  1610612738    Celtics  0.816099  ...  0.596774  0.597561         1\n",
       "2  1610612739  Cavaliers  0.562160  ...  0.449715  0.231707         0\n",
       "3  1610612740   Pelicans  0.913919  ...  0.810247  0.402439         0\n",
       "4  1610612741      Bulls  0.577028  ...  0.467742  0.268293         0\n",
       "\n",
       "[5 rows x 10 columns]"
      ]
     },
     "execution_count": 87,
     "metadata": {
      "tags": []
     },
     "output_type": "execute_result"
    }
   ],
   "source": [
    "# add binary variable for off season teams, 1=playoffs team, 0=not\n",
    "stats_2018_pre['playoffs'] = np.array([0,1,0,0,0,0,1,1,1,1,0,0,1,0,1,0,1,1,1,0,1,0,1,1,1,1,0,0,1,0])\n",
    "stats_2017_pre['playoffs'] = np.array([0,1,1,1,0,0,0,1,1,0,0,1,1,1,0,0,0,1,1,0,1,0,1,1,1,1,0,1,0,0])\n",
    "stats_2016_pre['playoffs'] = np.array([1,1,1,0,1,0,0,1,1,1,0,0,1,0,0,0,0,1,0,0,1,0,1,1,1,1,1,1,0,0])\n",
    "stats_2015_pre['playoffs'] = np.array([1,1,1,0,0,1,0,1,1,1,0,1,0,0,0,0,0,1,0,0,1,0,1,1,1,0,1,0,1,1])\n",
    "stats_2014_pre['playoffs'] = np.array([1,1,1,1,1,1,0,1,1,1,0,0,1,0,1,0,0,0,0,0,1,0,1,0,1,0,1,1,0,0])\n",
    "stats_2013_pre['playoffs'] = np.array([1,0,0,0,1,1,0,1,1,1,0,1,0,0,1,0,0,1,0,0,1,0,1,1,1,0,1,1,0,1])\n",
    "stats_2012_pre['playoffs'] = np.array([1,1,0,0,1,0,1,1,1,1,1,1,1,0,1,1,0,1,0,0,0,0,1,1,0,0,1,0,0,0])\n",
    "stats_2011_pre['playoffs'] = np.array([1,1,0,0,1,1,1,0,0,1,1,1,0,0,0,1,1,1,1,0,0,0,1,1,0,1,1,0,0,0])\n",
    "stats_2010_pre['playoffs'] = np.array([1,1,0,1,1,1,1,0,0,0,1,1,0,0,0,1,1,1,1,0,1,0,1,1,0,0,1,0,0,0])\n",
    "\n",
    "\n",
    "#Merged the data from 2016 to 2018\n",
    "frames = [stats_2018_pre, stats_2017_pre, stats_2016_pre,stats_2015_pre,stats_2014_pre,stats_2013_pre,\n",
    "          stats_2012_pre, stats_2011_pre, stats_2010_pre]\n",
    "stats_18to10_pre = pd.concat(frames)\n",
    "stats_18to10_pre =stats_18to10_pre.iloc[:,np.r_[7,8,0:7,9]]\n",
    "\n",
    "#normalization\n",
    "from sklearn.preprocessing import minmax_scale\n",
    "stats_18to10_pre['PTS'] = minmax_scale(stats_18to10_pre['PTS'], feature_range=(0,1))\n",
    "stats_18to10_pre['AST'] = minmax_scale(stats_18to10_pre['AST'], feature_range=(0,1))\n",
    "stats_18to10_pre['REB'] = minmax_scale(stats_18to10_pre['REB'], feature_range=(0,1))\n",
    "\n",
    "stats_18to10_pre.head()"
   ]
  },
  {
   "cell_type": "markdown",
   "metadata": {
    "colab_type": "text",
    "id": "fSljSmiOAjrt"
   },
   "source": [
    "Predicting using logistic regression."
   ]
  },
  {
   "cell_type": "code",
   "execution_count": 0,
   "metadata": {
    "colab": {
     "base_uri": "https://localhost:8080/",
     "height": 52
    },
    "colab_type": "code",
    "id": "vrLRWY_5VDQe",
    "outputId": "f5cb18cb-004e-4a3b-cc03-50e787f218b7"
   },
   "outputs": [
    {
     "name": "stdout",
     "output_type": "stream",
     "text": [
      "1414 items -- 74.81481481481481\n",
      "476 items -- 25.185185185185183\n"
     ]
    }
   ],
   "source": [
    "# Split arrays into train and test subsets which will be randomly selected\n",
    "X_train, X_test, y_train, y_test = train_test_split(stats_18to10_pre.iloc[:,2:9], stats_18to10_pre['playoffs'], random_state=123)  \n",
    "\n",
    "# Confirm the **75%–25% train-test split** \n",
    "print(X_train.size, 'items --', X_train.size/(X_train.size + X_test.size) * 100)\n",
    "print(X_test.size, 'items --', X_test.size/(X_train.size + X_test.size) * 100)"
   ]
  },
  {
   "cell_type": "markdown",
   "metadata": {
    "colab_type": "text",
    "id": "w0ACyNJ2unBu"
   },
   "source": [
    "Here we will run the regression for 19-20 season data, then predict the top 8 teams,west and east conference, and showing which teams has higher probability to enter playoffs.\n"
   ]
  },
  {
   "cell_type": "code",
   "execution_count": 0,
   "metadata": {
    "colab": {
     "base_uri": "https://localhost:8080/",
     "height": 34
    },
    "colab_type": "code",
    "id": "pPCO5dHM6C-g",
    "outputId": "4f29aa21-eba1-4474-e1a4-14f76e501a92"
   },
   "outputs": [
    {
     "name": "stdout",
     "output_type": "stream",
     "text": [
      "Accuracy:  0.88235\n"
     ]
    }
   ],
   "source": [
    "#logistic regression\n",
    "from sklearn.linear_model import LogisticRegression\n",
    "from sklearn import metrics\n",
    "glm1 = LogisticRegression()\n",
    "glm1.fit(X_train, y=y_train)\n",
    "#glm prediction\n",
    "expected = y_test\n",
    "predicted = glm1.predict(X_test)\n",
    "\n",
    "#check model accuracy\n",
    "score = glm1.score(X_test, y_test)\n",
    "print('Model Accuracy: ', round(score,5))\n",
    "\n",
    "#predict 19-20 season\n",
    "predict1 = glm1.predict_proba(stats_2019_pre.iloc[:,2:9])[:,1]\n",
    "#show the y=1 probability\n",
    "stats_2019_pre['prob']= predict1\n",
    "\n",
    "eastlist= ['Bucks','Hawks','Celtics','Cavaliers','Bulls','Heat','Bucks','Nets','Knicks','Magic','Pacers','76ers','Raptors','Wizards','Pistons','Hornets']\n",
    "westlist= ['Pelicans','Mavericks','Nuggets','Warriors','Rockets','Clippers','Lakers','Timberwolves','Suns','Trail Blazers','Kings','Spurs','Thunder','Jazz','Grizzlies']\n",
    "\n",
    "#display teams with top 16 highest probability to enter playoffs\n",
    "playoff19p = stats_2019_pre.sort_values(by='prob',ascending=False).reset_index(drop=True)[['NICKNAME','prob']]\n",
    "w19p = playoff19p[playoff19p['NICKNAME'].isin(westlist)].head(8).reset_index(drop=True)\n",
    "e19p = playoff19p[playoff19p['NICKNAME'].isin(eastlist)].head(8).reset_index(drop=True)"
   ]
  },
  {
   "cell_type": "code",
   "execution_count": 0,
   "metadata": {
    "colab": {
     "base_uri": "https://localhost:8080/",
     "height": 297
    },
    "colab_type": "code",
    "id": "zAmcKHqSto6-",
    "outputId": "aed528ea-6f5e-4d79-ae98-4ca17a2461c1"
   },
   "outputs": [
    {
     "data": {
      "text/html": [
       "<div>\n",
       "<style scoped>\n",
       "    .dataframe tbody tr th:only-of-type {\n",
       "        vertical-align: middle;\n",
       "    }\n",
       "\n",
       "    .dataframe tbody tr th {\n",
       "        vertical-align: top;\n",
       "    }\n",
       "\n",
       "    .dataframe thead th {\n",
       "        text-align: right;\n",
       "    }\n",
       "</style>\n",
       "<table border=\"1\" class=\"dataframe\">\n",
       "  <thead>\n",
       "    <tr style=\"text-align: right;\">\n",
       "      <th></th>\n",
       "      <th>NICKNAME</th>\n",
       "      <th>prob</th>\n",
       "    </tr>\n",
       "  </thead>\n",
       "  <tbody>\n",
       "    <tr>\n",
       "      <th>0</th>\n",
       "      <td>Lakers</td>\n",
       "      <td>0.888399</td>\n",
       "    </tr>\n",
       "    <tr>\n",
       "      <th>1</th>\n",
       "      <td>Clippers</td>\n",
       "      <td>0.818211</td>\n",
       "    </tr>\n",
       "    <tr>\n",
       "      <th>2</th>\n",
       "      <td>Nuggets</td>\n",
       "      <td>0.791174</td>\n",
       "    </tr>\n",
       "    <tr>\n",
       "      <th>3</th>\n",
       "      <td>Rockets</td>\n",
       "      <td>0.788414</td>\n",
       "    </tr>\n",
       "    <tr>\n",
       "      <th>4</th>\n",
       "      <td>Mavericks</td>\n",
       "      <td>0.745363</td>\n",
       "    </tr>\n",
       "    <tr>\n",
       "      <th>5</th>\n",
       "      <td>Jazz</td>\n",
       "      <td>0.701613</td>\n",
       "    </tr>\n",
       "    <tr>\n",
       "      <th>6</th>\n",
       "      <td>Thunder</td>\n",
       "      <td>0.667978</td>\n",
       "    </tr>\n",
       "    <tr>\n",
       "      <th>7</th>\n",
       "      <td>Grizzlies</td>\n",
       "      <td>0.567195</td>\n",
       "    </tr>\n",
       "  </tbody>\n",
       "</table>\n",
       "</div>"
      ],
      "text/plain": [
       "    NICKNAME      prob\n",
       "0     Lakers  0.888399\n",
       "1   Clippers  0.818211\n",
       "2    Nuggets  0.791174\n",
       "3    Rockets  0.788414\n",
       "4  Mavericks  0.745363\n",
       "5       Jazz  0.701613\n",
       "6    Thunder  0.667978\n",
       "7  Grizzlies  0.567195"
      ]
     },
     "execution_count": 85,
     "metadata": {
      "tags": []
     },
     "output_type": "execute_result"
    }
   ],
   "source": [
    "# Top 8 team in Western Conference\n",
    "w19p"
   ]
  },
  {
   "cell_type": "code",
   "execution_count": 0,
   "metadata": {
    "colab": {
     "base_uri": "https://localhost:8080/",
     "height": 297
    },
    "colab_type": "code",
    "id": "RA8Cm2qx1Tqo",
    "outputId": "14cfdf60-0d42-4239-a1b5-0fb93ed5ec63"
   },
   "outputs": [
    {
     "data": {
      "text/html": [
       "<div>\n",
       "<style scoped>\n",
       "    .dataframe tbody tr th:only-of-type {\n",
       "        vertical-align: middle;\n",
       "    }\n",
       "\n",
       "    .dataframe tbody tr th {\n",
       "        vertical-align: top;\n",
       "    }\n",
       "\n",
       "    .dataframe thead th {\n",
       "        text-align: right;\n",
       "    }\n",
       "</style>\n",
       "<table border=\"1\" class=\"dataframe\">\n",
       "  <thead>\n",
       "    <tr style=\"text-align: right;\">\n",
       "      <th></th>\n",
       "      <th>NICKNAME</th>\n",
       "      <th>prob</th>\n",
       "    </tr>\n",
       "  </thead>\n",
       "  <tbody>\n",
       "    <tr>\n",
       "      <th>0</th>\n",
       "      <td>Bucks</td>\n",
       "      <td>0.950078</td>\n",
       "    </tr>\n",
       "    <tr>\n",
       "      <th>1</th>\n",
       "      <td>Raptors</td>\n",
       "      <td>0.815245</td>\n",
       "    </tr>\n",
       "    <tr>\n",
       "      <th>2</th>\n",
       "      <td>Celtics</td>\n",
       "      <td>0.804269</td>\n",
       "    </tr>\n",
       "    <tr>\n",
       "      <th>3</th>\n",
       "      <td>Heat</td>\n",
       "      <td>0.761725</td>\n",
       "    </tr>\n",
       "    <tr>\n",
       "      <th>4</th>\n",
       "      <td>76ers</td>\n",
       "      <td>0.700722</td>\n",
       "    </tr>\n",
       "    <tr>\n",
       "      <th>5</th>\n",
       "      <td>Pacers</td>\n",
       "      <td>0.674332</td>\n",
       "    </tr>\n",
       "    <tr>\n",
       "      <th>6</th>\n",
       "      <td>Nets</td>\n",
       "      <td>0.471358</td>\n",
       "    </tr>\n",
       "    <tr>\n",
       "      <th>7</th>\n",
       "      <td>Magic</td>\n",
       "      <td>0.404172</td>\n",
       "    </tr>\n",
       "  </tbody>\n",
       "</table>\n",
       "</div>"
      ],
      "text/plain": [
       "  NICKNAME      prob\n",
       "0    Bucks  0.950078\n",
       "1  Raptors  0.815245\n",
       "2  Celtics  0.804269\n",
       "3     Heat  0.761725\n",
       "4    76ers  0.700722\n",
       "5   Pacers  0.674332\n",
       "6     Nets  0.471358\n",
       "7    Magic  0.404172"
      ]
     },
     "execution_count": 83,
     "metadata": {
      "tags": []
     },
     "output_type": "execute_result"
    }
   ],
   "source": [
    "# Top 8 team in Eastern Conference\n",
    "e19p"
   ]
  },
  {
   "cell_type": "markdown",
   "metadata": {
    "colab_type": "text",
    "id": "T7d-mkcnl81E"
   },
   "source": [
    "Visualized Map of Team Entering Playeoffs Counts\n",
    "\n",
    "From 2010 to 2019"
   ]
  },
  {
   "cell_type": "code",
   "execution_count": 0,
   "metadata": {
    "colab": {
     "base_uri": "https://localhost:8080/",
     "height": 317
    },
    "colab_type": "code",
    "id": "-fBjIJ_clzFz",
    "outputId": "fb8e259e-8a17-4489-e751-dd3101efff10"
   },
   "outputs": [
    {
     "data": {
      "text/html": [
       "<html>\n",
       "<head><meta charset=\"utf-8\" /></head>\n",
       "<body>\n",
       "    <div>\n",
       "            <script src=\"https://cdnjs.cloudflare.com/ajax/libs/mathjax/2.7.5/MathJax.js?config=TeX-AMS-MML_SVG\"></script><script type=\"text/javascript\">if (window.MathJax) {MathJax.Hub.Config({SVG: {font: \"STIX-Web\"}});}</script>\n",
       "                <script type=\"text/javascript\">window.PlotlyConfig = {MathJaxConfig: 'local'};</script>\n",
       "        <script src=\"https://cdn.plot.ly/plotly-latest.min.js\"></script>    \n",
       "            <div id=\"692c204e-399b-445a-8d35-5365aa6f5247\" class=\"plotly-graph-div\" style=\"height:300px; width:100%;\"></div>\n",
       "            <script type=\"text/javascript\">\n",
       "                \n",
       "                    window.PLOTLYENV=window.PLOTLYENV || {};\n",
       "                    \n",
       "                if (document.getElementById(\"692c204e-399b-445a-8d35-5365aa6f5247\")) {\n",
       "                    Plotly.newPlot(\n",
       "                        '692c204e-399b-445a-8d35-5365aa6f5247',\n",
       "                        [{\"customdata\": [[\"Boston, Massachusetts\", \"Atlantic\"], [\"New York City, New York\", \"Atlantic\"], [\"New York City, New York\", \"Atlantic\"], [\"Philadelphia, Pennsylvania\", \"Atlantic\"], [\"Toronto, Ontario\", \"Atlantic\"], [\"Chicago, Illinois\", \"Central\"], [\"Cleveland, Ohio\", \"Central\"], [\"Detroit, Michigan\", \"Central\"], [\"Indianapolis, Indiana\", \"Central\"], [\"Milwaukee, Wisconsin\", \"Central\"], [\"Atlanta, Georgia\", \"Southeast\"], [\"Charlotte, North Carolina\", \"Southeast\"], [\"Miami, Florida\", \"Southeast\"], [\"Orlando, Florida\", \"Southeast\"], [\"Washington, D.C.\", \"Southeast\"], [\"Denver, Colorado\", \"Northwest\"], [\"Minneapolis, Minnesota\", \"Northwest\"], [\"Oklahoma City, Oklahoma\", \"Northwest\"], [\"Portland, Oregon\", \"Northwest\"], [\"Salt Lake City, Utah\", \"Northwest\"], [\"San Francisco, California\", \"Pacific\"], [\"Los Angeles, California\", \"Pacific\"], [\"Los Angeles, California\", \"Pacific\"], [\"Phoenix, Arizona\", \"Pacific\"], [\"Sacramento, California\", \"Pacific\"], [\"Dallas, Texas\", \"Southwest\"], [\"Houston, Texas\", \"Southwest\"], [\"Memphis, Tennessee\", \"Southwest\"], [\"New Orleans, Louisiana\", \"Southwest\"], [\"San Antonio, Texas\", \"Southwest\"]], \"hoverlabel\": {\"namelength\": 0}, \"hovertemplate\": \"<b>%{hovertext}</b><br><br>playoffs=%{marker.size}<br>City, State=%{customdata[0]}<br>Division=%{customdata[1]}<br>latitude=%{lat}<br>longitude=%{lon}\", \"hovertext\": [\"Boston Celtics\", \"Brooklyn Nets\", \"New York Knicks\", \"Philadelphia 76ers\", \"Toronto Raptors\", \"Chicago Bulls\", \"Cleveland Cavaliers\", \"Detroit Pistons\", \"Indiana Pacers\", \"Milwaukee Bucks\", \"Atlanta Hawks\", \"Charlotte Hornets\", \"Miami Heat\", \"Orlando Magic\", \"Washington Wizards\", \"Denver Nuggets\", \"Minnesota Timberwolves\", \"Oklahoma City Thunder\", \"Portland Trail Blazers\", \"Utah Jazz\", \"Golden State Warriors\", \"Los Angeles Clippers\", \"Los Angeles Lakers\", \"Phoenix Suns\", \"Sacramento Kings\", \"Dallas Mavericks\", \"Houston Rockets\", \"Memphis Grizzlies\", \"New Orleans Pelicans\", \"San Antonio Spurs\"], \"lat\": [42.366303, 40.68265, 40.750556, 39.901111, 43.643333, 41.880556, 41.496389, 42.696944, 39.763889, 43.043611, 33.757222, 35.225, 25.781389, 28.539167, 38.898056, 39.748611, 44.979444, 35.463333, 45.531667, 40.768333, 37.768056, 34.043056, 34.043056, 33.445833, 38.649167, 32.790556, 29.750833, 35.138333, 29.948889, 29.426944], \"legendgroup\": \"\", \"lon\": [-71.062228, -73.974689, -73.993611, -75.171944, -79.37916700000001, -87.67416700000001, -81.688056, -83.24555600000001, -86.155556, -87.916944, -84.396389, -80.839167, -80.188056, -81.383611, -77.020833, -105.0075, -93.276111, -97.515, -122.66666699999999, -111.90111100000001, -122.3875, -118.267222, -118.267222, -112.071389, -121.518056, -96.810278, -95.362222, -90.050556, -90.081944, -98.4375], \"marker\": {\"color\": \"red\", \"opacity\": 0.6, \"size\": [8, 4, 3, 4, 6, 6, 4, 2, 8, 5, 7, 2, 6, 3, 4, 4, 1, 8, 7, 4, 7, 7, 3, 0, 0, 5, 7, 7, 3, 9], \"sizemode\": \"area\", \"sizeref\": 0.0225}, \"mode\": \"markers\", \"name\": \"\", \"showlegend\": false, \"subplot\": \"mapbox\", \"type\": \"scattermapbox\"}],\n",
       "                        {\"height\": 300, \"legend\": {\"itemsizing\": \"constant\", \"tracegroupgap\": 0}, \"mapbox\": {\"center\": {\"lat\": 37.330742900000004, \"lon\": -93.2570084}, \"domain\": {\"x\": [0.0, 1.0], \"y\": [0.0, 1.0]}, \"style\": \"open-street-map\", \"zoom\": 3}, \"margin\": {\"b\": 0, \"l\": 0, \"r\": 0, \"t\": 0}, \"template\": {\"data\": {\"bar\": [{\"error_x\": {\"color\": \"#2a3f5f\"}, \"error_y\": {\"color\": \"#2a3f5f\"}, \"marker\": {\"line\": {\"color\": \"#E5ECF6\", \"width\": 0.5}}, \"type\": \"bar\"}], \"barpolar\": [{\"marker\": {\"line\": {\"color\": \"#E5ECF6\", \"width\": 0.5}}, \"type\": \"barpolar\"}], \"carpet\": [{\"aaxis\": {\"endlinecolor\": \"#2a3f5f\", \"gridcolor\": \"white\", \"linecolor\": \"white\", \"minorgridcolor\": \"white\", \"startlinecolor\": \"#2a3f5f\"}, \"baxis\": {\"endlinecolor\": \"#2a3f5f\", \"gridcolor\": \"white\", \"linecolor\": \"white\", \"minorgridcolor\": \"white\", \"startlinecolor\": \"#2a3f5f\"}, \"type\": \"carpet\"}], \"choropleth\": [{\"colorbar\": {\"outlinewidth\": 0, \"ticks\": \"\"}, \"type\": \"choropleth\"}], \"contour\": [{\"colorbar\": {\"outlinewidth\": 0, \"ticks\": \"\"}, \"colorscale\": [[0.0, \"#0d0887\"], [0.1111111111111111, \"#46039f\"], [0.2222222222222222, \"#7201a8\"], [0.3333333333333333, \"#9c179e\"], [0.4444444444444444, \"#bd3786\"], [0.5555555555555556, \"#d8576b\"], [0.6666666666666666, \"#ed7953\"], [0.7777777777777778, \"#fb9f3a\"], [0.8888888888888888, \"#fdca26\"], [1.0, \"#f0f921\"]], \"type\": \"contour\"}], \"contourcarpet\": [{\"colorbar\": {\"outlinewidth\": 0, \"ticks\": \"\"}, \"type\": \"contourcarpet\"}], \"heatmap\": [{\"colorbar\": {\"outlinewidth\": 0, \"ticks\": \"\"}, \"colorscale\": [[0.0, \"#0d0887\"], [0.1111111111111111, \"#46039f\"], [0.2222222222222222, \"#7201a8\"], [0.3333333333333333, \"#9c179e\"], [0.4444444444444444, \"#bd3786\"], [0.5555555555555556, \"#d8576b\"], [0.6666666666666666, \"#ed7953\"], [0.7777777777777778, \"#fb9f3a\"], [0.8888888888888888, \"#fdca26\"], [1.0, \"#f0f921\"]], \"type\": \"heatmap\"}], \"heatmapgl\": [{\"colorbar\": {\"outlinewidth\": 0, \"ticks\": \"\"}, \"colorscale\": [[0.0, \"#0d0887\"], [0.1111111111111111, \"#46039f\"], [0.2222222222222222, \"#7201a8\"], [0.3333333333333333, \"#9c179e\"], [0.4444444444444444, \"#bd3786\"], [0.5555555555555556, \"#d8576b\"], [0.6666666666666666, \"#ed7953\"], [0.7777777777777778, \"#fb9f3a\"], [0.8888888888888888, \"#fdca26\"], [1.0, \"#f0f921\"]], \"type\": \"heatmapgl\"}], \"histogram\": [{\"marker\": {\"colorbar\": {\"outlinewidth\": 0, \"ticks\": \"\"}}, \"type\": \"histogram\"}], \"histogram2d\": [{\"colorbar\": {\"outlinewidth\": 0, \"ticks\": \"\"}, \"colorscale\": [[0.0, \"#0d0887\"], [0.1111111111111111, \"#46039f\"], [0.2222222222222222, \"#7201a8\"], [0.3333333333333333, \"#9c179e\"], [0.4444444444444444, \"#bd3786\"], [0.5555555555555556, \"#d8576b\"], [0.6666666666666666, \"#ed7953\"], [0.7777777777777778, \"#fb9f3a\"], [0.8888888888888888, \"#fdca26\"], [1.0, \"#f0f921\"]], \"type\": \"histogram2d\"}], \"histogram2dcontour\": [{\"colorbar\": {\"outlinewidth\": 0, \"ticks\": \"\"}, \"colorscale\": [[0.0, \"#0d0887\"], [0.1111111111111111, \"#46039f\"], [0.2222222222222222, \"#7201a8\"], [0.3333333333333333, \"#9c179e\"], [0.4444444444444444, \"#bd3786\"], [0.5555555555555556, \"#d8576b\"], [0.6666666666666666, \"#ed7953\"], [0.7777777777777778, \"#fb9f3a\"], [0.8888888888888888, \"#fdca26\"], [1.0, \"#f0f921\"]], \"type\": \"histogram2dcontour\"}], \"mesh3d\": [{\"colorbar\": {\"outlinewidth\": 0, \"ticks\": \"\"}, \"type\": \"mesh3d\"}], \"parcoords\": [{\"line\": {\"colorbar\": {\"outlinewidth\": 0, \"ticks\": \"\"}}, \"type\": \"parcoords\"}], \"pie\": [{\"automargin\": true, \"type\": \"pie\"}], \"scatter\": [{\"marker\": {\"colorbar\": {\"outlinewidth\": 0, \"ticks\": \"\"}}, \"type\": \"scatter\"}], \"scatter3d\": [{\"line\": {\"colorbar\": {\"outlinewidth\": 0, \"ticks\": \"\"}}, \"marker\": {\"colorbar\": {\"outlinewidth\": 0, \"ticks\": \"\"}}, \"type\": \"scatter3d\"}], \"scattercarpet\": [{\"marker\": {\"colorbar\": {\"outlinewidth\": 0, \"ticks\": \"\"}}, \"type\": \"scattercarpet\"}], \"scattergeo\": [{\"marker\": {\"colorbar\": {\"outlinewidth\": 0, \"ticks\": \"\"}}, \"type\": \"scattergeo\"}], \"scattergl\": [{\"marker\": {\"colorbar\": {\"outlinewidth\": 0, \"ticks\": \"\"}}, \"type\": \"scattergl\"}], \"scattermapbox\": [{\"marker\": {\"colorbar\": {\"outlinewidth\": 0, \"ticks\": \"\"}}, \"type\": \"scattermapbox\"}], \"scatterpolar\": [{\"marker\": {\"colorbar\": {\"outlinewidth\": 0, \"ticks\": \"\"}}, \"type\": \"scatterpolar\"}], \"scatterpolargl\": [{\"marker\": {\"colorbar\": {\"outlinewidth\": 0, \"ticks\": \"\"}}, \"type\": \"scatterpolargl\"}], \"scatterternary\": [{\"marker\": {\"colorbar\": {\"outlinewidth\": 0, \"ticks\": \"\"}}, \"type\": \"scatterternary\"}], \"surface\": [{\"colorbar\": {\"outlinewidth\": 0, \"ticks\": \"\"}, \"colorscale\": [[0.0, \"#0d0887\"], [0.1111111111111111, \"#46039f\"], [0.2222222222222222, \"#7201a8\"], [0.3333333333333333, \"#9c179e\"], [0.4444444444444444, \"#bd3786\"], [0.5555555555555556, \"#d8576b\"], [0.6666666666666666, \"#ed7953\"], [0.7777777777777778, \"#fb9f3a\"], [0.8888888888888888, \"#fdca26\"], [1.0, \"#f0f921\"]], \"type\": \"surface\"}], \"table\": [{\"cells\": {\"fill\": {\"color\": \"#EBF0F8\"}, \"line\": {\"color\": \"white\"}}, \"header\": {\"fill\": {\"color\": \"#C8D4E3\"}, \"line\": {\"color\": \"white\"}}, \"type\": \"table\"}]}, \"layout\": {\"annotationdefaults\": {\"arrowcolor\": \"#2a3f5f\", \"arrowhead\": 0, \"arrowwidth\": 1}, \"coloraxis\": {\"colorbar\": {\"outlinewidth\": 0, \"ticks\": \"\"}}, \"colorscale\": {\"diverging\": [[0, \"#8e0152\"], [0.1, \"#c51b7d\"], [0.2, \"#de77ae\"], [0.3, \"#f1b6da\"], [0.4, \"#fde0ef\"], [0.5, \"#f7f7f7\"], [0.6, \"#e6f5d0\"], [0.7, \"#b8e186\"], [0.8, \"#7fbc41\"], [0.9, \"#4d9221\"], [1, \"#276419\"]], \"sequential\": [[0.0, \"#0d0887\"], [0.1111111111111111, \"#46039f\"], [0.2222222222222222, \"#7201a8\"], [0.3333333333333333, \"#9c179e\"], [0.4444444444444444, \"#bd3786\"], [0.5555555555555556, \"#d8576b\"], [0.6666666666666666, \"#ed7953\"], [0.7777777777777778, \"#fb9f3a\"], [0.8888888888888888, \"#fdca26\"], [1.0, \"#f0f921\"]], \"sequentialminus\": [[0.0, \"#0d0887\"], [0.1111111111111111, \"#46039f\"], [0.2222222222222222, \"#7201a8\"], [0.3333333333333333, \"#9c179e\"], [0.4444444444444444, \"#bd3786\"], [0.5555555555555556, \"#d8576b\"], [0.6666666666666666, \"#ed7953\"], [0.7777777777777778, \"#fb9f3a\"], [0.8888888888888888, \"#fdca26\"], [1.0, \"#f0f921\"]]}, \"colorway\": [\"#636efa\", \"#EF553B\", \"#00cc96\", \"#ab63fa\", \"#FFA15A\", \"#19d3f3\", \"#FF6692\", \"#B6E880\", \"#FF97FF\", \"#FECB52\"], \"font\": {\"color\": \"#2a3f5f\"}, \"geo\": {\"bgcolor\": \"white\", \"lakecolor\": \"white\", \"landcolor\": \"#E5ECF6\", \"showlakes\": true, \"showland\": true, \"subunitcolor\": \"white\"}, \"hoverlabel\": {\"align\": \"left\"}, \"hovermode\": \"closest\", \"mapbox\": {\"style\": \"light\"}, \"paper_bgcolor\": \"white\", \"plot_bgcolor\": \"#E5ECF6\", \"polar\": {\"angularaxis\": {\"gridcolor\": \"white\", \"linecolor\": \"white\", \"ticks\": \"\"}, \"bgcolor\": \"#E5ECF6\", \"radialaxis\": {\"gridcolor\": \"white\", \"linecolor\": \"white\", \"ticks\": \"\"}}, \"scene\": {\"xaxis\": {\"backgroundcolor\": \"#E5ECF6\", \"gridcolor\": \"white\", \"gridwidth\": 2, \"linecolor\": \"white\", \"showbackground\": true, \"ticks\": \"\", \"zerolinecolor\": \"white\"}, \"yaxis\": {\"backgroundcolor\": \"#E5ECF6\", \"gridcolor\": \"white\", \"gridwidth\": 2, \"linecolor\": \"white\", \"showbackground\": true, \"ticks\": \"\", \"zerolinecolor\": \"white\"}, \"zaxis\": {\"backgroundcolor\": \"#E5ECF6\", \"gridcolor\": \"white\", \"gridwidth\": 2, \"linecolor\": \"white\", \"showbackground\": true, \"ticks\": \"\", \"zerolinecolor\": \"white\"}}, \"shapedefaults\": {\"line\": {\"color\": \"#2a3f5f\"}}, \"ternary\": {\"aaxis\": {\"gridcolor\": \"white\", \"linecolor\": \"white\", \"ticks\": \"\"}, \"baxis\": {\"gridcolor\": \"white\", \"linecolor\": \"white\", \"ticks\": \"\"}, \"bgcolor\": \"#E5ECF6\", \"caxis\": {\"gridcolor\": \"white\", \"linecolor\": \"white\", \"ticks\": \"\"}}, \"title\": {\"x\": 0.05}, \"xaxis\": {\"automargin\": true, \"gridcolor\": \"white\", \"linecolor\": \"white\", \"ticks\": \"\", \"title\": {\"standoff\": 15}, \"zerolinecolor\": \"white\", \"zerolinewidth\": 2}, \"yaxis\": {\"automargin\": true, \"gridcolor\": \"white\", \"linecolor\": \"white\", \"ticks\": \"\", \"title\": {\"standoff\": 15}, \"zerolinecolor\": \"white\", \"zerolinewidth\": 2}}}},\n",
       "                        {\"responsive\": true}\n",
       "                    ).then(function(){\n",
       "                            \n",
       "var gd = document.getElementById('692c204e-399b-445a-8d35-5365aa6f5247');\n",
       "var x = new MutationObserver(function (mutations, observer) {{\n",
       "        var display = window.getComputedStyle(gd).display;\n",
       "        if (!display || display === 'none') {{\n",
       "            console.log([gd, 'removed!']);\n",
       "            Plotly.purge(gd);\n",
       "            observer.disconnect();\n",
       "        }}\n",
       "}});\n",
       "\n",
       "// Listen for the removal of the full notebook cells\n",
       "var notebookContainer = gd.closest('#notebook-container');\n",
       "if (notebookContainer) {{\n",
       "    x.observe(notebookContainer, {childList: true});\n",
       "}}\n",
       "\n",
       "// Listen for the clearing of the current output cell\n",
       "var outputEl = gd.closest('.output');\n",
       "if (outputEl) {{\n",
       "    x.observe(outputEl, {childList: true});\n",
       "}}\n",
       "\n",
       "                        })\n",
       "                };\n",
       "                \n",
       "            </script>\n",
       "        </div>\n",
       "</body>\n",
       "</html>"
      ]
     },
     "metadata": {
      "tags": []
     },
     "output_type": "display_data"
    }
   ],
   "source": [
    "map_data=pd.read_html(\"https://en.wikipedia.org/wiki/National_Basketball_Association\")[2]\n",
    "\n",
    "map_data.columns=map_data.columns.droplevel(1)\n",
    "#map_data.head()\n",
    "map_data.drop(map_data.index[15],inplace=True)\n",
    "map_data.reset_index(drop=True, inplace=True)\n",
    "map_data['Coordinates']=map_data['Coordinates'].str.replace('.+/','')\n",
    "map_data['latitude']=map_data['Coordinates'].str.extract('(\\d{2}.\\d+)')\n",
    "map_data['longitude']=map_data['Coordinates'].str.extract('(\\d{2,3}.\\d+.W)')\n",
    "map_data['longitude']=map_data['longitude'].str.replace('.W','')\n",
    "map_data['longitude']=pd.to_numeric(map_data['longitude'])\n",
    "map_data['latitude']=pd.to_numeric(map_data['latitude'])\n",
    "\n",
    "map_data['temporary']=map_data['longitude']*2\n",
    "map_data['longitude']=map_data['longitude']-map_data['temporary']\n",
    "map_data.drop(['Unnamed: 8_level_0','temporary'],axis=1,inplace=True)\n",
    "map_data['NICKNAME']=map_data['Team'].str.rsplit(expand=True)[1]\n",
    "map_data['NICKNAME'][2]='Knicks'\n",
    "map_data['NICKNAME'][17]='Thunder'\n",
    "map_data['NICKNAME'][18]='Trail Blazers'\n",
    "map_data['NICKNAME'][20]='Warriors'\n",
    "map_data['NICKNAME'][21]='Clippers'\n",
    "map_data['NICKNAME'][22]='Lakers'\n",
    "map_data['NICKNAME'][28]='Pelicans'\n",
    "map_data['NICKNAME'][29]='Spurs'\n",
    "\n",
    "map_with_playoff=pd.merge(map_data,stats_18to10_pre,right_on='NICKNAME',left_on='NICKNAME',how='inner')\n",
    "map_with_playoff_2=pd.DataFrame(map_with_playoff.groupby('NICKNAME')['playoffs'].sum())\n",
    "#map_with_playoff_2.sort_values('playoffs',ascending=False).head(3)\n",
    "\n",
    "map_with_playoff_3=pd.merge(map_data,map_with_playoff_2,left_on='NICKNAME',right_index=True,how='inner')\n",
    "#map_with_playoff_3.head(3)\n",
    "\n",
    "import plotly.express as px\n",
    "fig = px.scatter_mapbox(map_with_playoff_3, lat=\"latitude\", lon=\"longitude\", hover_name=\"Team\", hover_data=[\"City, State\",\"Division\"],\n",
    "                        color_discrete_sequence=['red'], zoom=3, height=300,opacity=0.6,size=\"playoffs\")\n",
    "\n",
    "fig.update_layout(mapbox_style=\"open-street-map\")\n",
    "fig.update_layout(margin={\"r\":0,\"t\":0,\"l\":0,\"b\":0})\n",
    "fig.show()"
   ]
  },
  {
   "cell_type": "markdown",
   "metadata": {
    "colab_type": "text",
    "id": "HutJbzLSA77X"
   },
   "source": [
    "### Prediction of the MVP"
   ]
  },
  {
   "cell_type": "markdown",
   "metadata": {
    "colab_type": "text",
    "id": "gdRIjFoY1zNW"
   },
   "source": [
    "Here, we'll use player performance from previous season, to predict the mvp of year 2020."
   ]
  },
  {
   "cell_type": "code",
   "execution_count": 0,
   "metadata": {
    "colab": {
     "base_uri": "https://localhost:8080/",
     "height": 428
    },
    "colab_type": "code",
    "id": "ewAEF92nvoqB",
    "outputId": "d222db05-e540-4b3c-e057-18366f73dddc"
   },
   "outputs": [
    {
     "data": {
      "text/html": [
       "<div>\n",
       "<style scoped>\n",
       "    .dataframe tbody tr th:only-of-type {\n",
       "        vertical-align: middle;\n",
       "    }\n",
       "\n",
       "    .dataframe tbody tr th {\n",
       "        vertical-align: top;\n",
       "    }\n",
       "\n",
       "    .dataframe thead th {\n",
       "        text-align: right;\n",
       "    }\n",
       "</style>\n",
       "<table border=\"1\" class=\"dataframe\">\n",
       "  <thead>\n",
       "    <tr style=\"text-align: right;\">\n",
       "      <th></th>\n",
       "      <th>PLAYER_NAME</th>\n",
       "      <th>PTS</th>\n",
       "      <th>REB</th>\n",
       "      <th>AST</th>\n",
       "      <th>STL</th>\n",
       "      <th>BLK</th>\n",
       "      <th>FGA</th>\n",
       "      <th>FGM</th>\n",
       "      <th>FTA</th>\n",
       "      <th>FTM</th>\n",
       "      <th>TO</th>\n",
       "      <th>EFF</th>\n",
       "      <th>MVP</th>\n",
       "    </tr>\n",
       "  </thead>\n",
       "  <tbody>\n",
       "    <tr>\n",
       "      <th>213</th>\n",
       "      <td>Giannis Antetokounmpo</td>\n",
       "      <td>27.211111</td>\n",
       "      <td>12.400000</td>\n",
       "      <td>5.711111</td>\n",
       "      <td>1.277778</td>\n",
       "      <td>1.577778</td>\n",
       "      <td>17.222222</td>\n",
       "      <td>9.755556</td>\n",
       "      <td>9.733333</td>\n",
       "      <td>6.877778</td>\n",
       "      <td>3.588889</td>\n",
       "      <td>34.266667</td>\n",
       "      <td>1</td>\n",
       "    </tr>\n",
       "    <tr>\n",
       "      <th>31</th>\n",
       "      <td>Anthony Davis</td>\n",
       "      <td>25.533333</td>\n",
       "      <td>11.850000</td>\n",
       "      <td>3.766667</td>\n",
       "      <td>1.633333</td>\n",
       "      <td>2.416667</td>\n",
       "      <td>18.033333</td>\n",
       "      <td>9.300000</td>\n",
       "      <td>7.716667</td>\n",
       "      <td>6.083333</td>\n",
       "      <td>2.016667</td>\n",
       "      <td>32.816667</td>\n",
       "      <td>0</td>\n",
       "    </tr>\n",
       "    <tr>\n",
       "      <th>267</th>\n",
       "      <td>James Harden</td>\n",
       "      <td>34.913978</td>\n",
       "      <td>6.580645</td>\n",
       "      <td>7.419355</td>\n",
       "      <td>2.043011</td>\n",
       "      <td>0.763441</td>\n",
       "      <td>23.956989</td>\n",
       "      <td>10.473118</td>\n",
       "      <td>10.580645</td>\n",
       "      <td>9.236559</td>\n",
       "      <td>5.000000</td>\n",
       "      <td>31.892473</td>\n",
       "      <td>0</td>\n",
       "    </tr>\n",
       "    <tr>\n",
       "      <th>307</th>\n",
       "      <td>Joel Embiid</td>\n",
       "      <td>26.346154</td>\n",
       "      <td>12.948718</td>\n",
       "      <td>3.602564</td>\n",
       "      <td>0.730769</td>\n",
       "      <td>1.884615</td>\n",
       "      <td>18.102564</td>\n",
       "      <td>8.666667</td>\n",
       "      <td>9.730769</td>\n",
       "      <td>7.833333</td>\n",
       "      <td>3.576923</td>\n",
       "      <td>30.602564</td>\n",
       "      <td>0</td>\n",
       "    </tr>\n",
       "    <tr>\n",
       "      <th>351</th>\n",
       "      <td>Karl-Anthony Towns</td>\n",
       "      <td>24.073171</td>\n",
       "      <td>12.073171</td>\n",
       "      <td>3.219512</td>\n",
       "      <td>0.841463</td>\n",
       "      <td>1.621951</td>\n",
       "      <td>16.829268</td>\n",
       "      <td>8.682927</td>\n",
       "      <td>5.853659</td>\n",
       "      <td>4.890244</td>\n",
       "      <td>3.036585</td>\n",
       "      <td>29.682927</td>\n",
       "      <td>0</td>\n",
       "    </tr>\n",
       "    <tr>\n",
       "      <th>460</th>\n",
       "      <td>Nikola Jokic</td>\n",
       "      <td>20.500000</td>\n",
       "      <td>10.867347</td>\n",
       "      <td>7.275510</td>\n",
       "      <td>1.306122</td>\n",
       "      <td>0.704082</td>\n",
       "      <td>15.275510</td>\n",
       "      <td>7.806122</td>\n",
       "      <td>4.561224</td>\n",
       "      <td>3.765306</td>\n",
       "      <td>3.061224</td>\n",
       "      <td>29.326531</td>\n",
       "      <td>0</td>\n",
       "    </tr>\n",
       "    <tr>\n",
       "      <th>393</th>\n",
       "      <td>LeBron James</td>\n",
       "      <td>26.440678</td>\n",
       "      <td>8.203390</td>\n",
       "      <td>7.949153</td>\n",
       "      <td>1.271186</td>\n",
       "      <td>0.576271</td>\n",
       "      <td>19.067797</td>\n",
       "      <td>9.762712</td>\n",
       "      <td>7.389831</td>\n",
       "      <td>4.966102</td>\n",
       "      <td>3.491525</td>\n",
       "      <td>29.220339</td>\n",
       "      <td>0</td>\n",
       "    </tr>\n",
       "    <tr>\n",
       "      <th>514</th>\n",
       "      <td>Russell Westbrook</td>\n",
       "      <td>22.935897</td>\n",
       "      <td>10.923077</td>\n",
       "      <td>10.730769</td>\n",
       "      <td>1.884615</td>\n",
       "      <td>0.461538</td>\n",
       "      <td>20.307692</td>\n",
       "      <td>8.589744</td>\n",
       "      <td>6.115385</td>\n",
       "      <td>4.089744</td>\n",
       "      <td>4.461538</td>\n",
       "      <td>28.730769</td>\n",
       "      <td>0</td>\n",
       "    </tr>\n",
       "    <tr>\n",
       "      <th>364</th>\n",
       "      <td>Kevin Durant</td>\n",
       "      <td>26.446809</td>\n",
       "      <td>6.202128</td>\n",
       "      <td>5.627660</td>\n",
       "      <td>0.776596</td>\n",
       "      <td>1.031915</td>\n",
       "      <td>17.851064</td>\n",
       "      <td>9.308511</td>\n",
       "      <td>6.712766</td>\n",
       "      <td>5.946809</td>\n",
       "      <td>2.968085</td>\n",
       "      <td>27.808511</td>\n",
       "      <td>0</td>\n",
       "    </tr>\n",
       "    <tr>\n",
       "      <th>352</th>\n",
       "      <td>Kawhi Leonard</td>\n",
       "      <td>27.218391</td>\n",
       "      <td>7.701149</td>\n",
       "      <td>3.482759</td>\n",
       "      <td>1.747126</td>\n",
       "      <td>0.482759</td>\n",
       "      <td>19.034483</td>\n",
       "      <td>9.367816</td>\n",
       "      <td>7.666667</td>\n",
       "      <td>6.551724</td>\n",
       "      <td>2.275862</td>\n",
       "      <td>27.574713</td>\n",
       "      <td>0</td>\n",
       "    </tr>\n",
       "  </tbody>\n",
       "</table>\n",
       "</div>"
      ],
      "text/plain": [
       "               PLAYER_NAME        PTS        REB  ...        TO        EFF  MVP\n",
       "213  Giannis Antetokounmpo  27.211111  12.400000  ...  3.588889  34.266667    1\n",
       "31           Anthony Davis  25.533333  11.850000  ...  2.016667  32.816667    0\n",
       "267           James Harden  34.913978   6.580645  ...  5.000000  31.892473    0\n",
       "307            Joel Embiid  26.346154  12.948718  ...  3.576923  30.602564    0\n",
       "351     Karl-Anthony Towns  24.073171  12.073171  ...  3.036585  29.682927    0\n",
       "460           Nikola Jokic  20.500000  10.867347  ...  3.061224  29.326531    0\n",
       "393           LeBron James  26.440678   8.203390  ...  3.491525  29.220339    0\n",
       "514      Russell Westbrook  22.935897  10.923077  ...  4.461538  28.730769    0\n",
       "364           Kevin Durant  26.446809   6.202128  ...  2.968085  27.808511    0\n",
       "352          Kawhi Leonard  27.218391   7.701149  ...  2.275862  27.574713    0\n",
       "\n",
       "[10 rows x 13 columns]"
      ]
     },
     "execution_count": 24,
     "metadata": {
      "tags": []
     },
     "output_type": "execute_result"
    }
   ],
   "source": [
    "#2018-19: Giannis Antetokounmpo (Greece)\n",
    "\n",
    "#Use the data in only season 2018\n",
    "games_s18 = games[games['SEASON'] == 2018]['GAME_ID']\n",
    "games_details_s18 = games_details[games_details.GAME_ID.isin(games_s18)]\n",
    "\n",
    "#Filter the column we need\n",
    "player_statistics_18 = games_details_s18.groupby(by = 'PLAYER_NAME', as_index=False)['MIN','REB','AST','STL','BLK','PTS'].mean()\n",
    "\n",
    "player_per_18= games_details_s18.groupby(by = 'PLAYER_NAME', as_index=False)['PTS','REB','AST','STL','BLK','FGA','FGM','FTA','FTM','TO'].mean()\n",
    "player_per_18['EFF'] = (player_per_18['PTS']+player_per_18['REB']+player_per_18['AST']+player_per_18['STL']+player_per_18['BLK'])-(player_per_18['FGA']-player_per_18['FGM'])-(player_per_18['FTA']-player_per_18['FTM']) - player_per_18['TO']\n",
    "#select top 10 eff players\n",
    "player18_mvp_candidate=player_per_18.sort_values(by='EFF',ascending=False).head(10)\n",
    "player18_mvp_candidate.reset_index(drop=True)\n",
    "player18_mvp_candidate['MVP']=[1,0,0,0,0,0,0,0,0,0]\n",
    "player18_mvp_candidate"
   ]
  },
  {
   "cell_type": "markdown",
   "metadata": {
    "colab_type": "text",
    "id": "ye8jGerPQITr"
   },
   "source": [
    "Predicting using logistic regression."
   ]
  },
  {
   "cell_type": "code",
   "execution_count": 0,
   "metadata": {
    "colab": {
     "base_uri": "https://localhost:8080/",
     "height": 428
    },
    "colab_type": "code",
    "id": "8RK4wvIavzPS",
    "outputId": "2e6a72ca-ef3d-4818-d9ec-c152e8d86f85"
   },
   "outputs": [
    {
     "data": {
      "text/html": [
       "<div>\n",
       "<style scoped>\n",
       "    .dataframe tbody tr th:only-of-type {\n",
       "        vertical-align: middle;\n",
       "    }\n",
       "\n",
       "    .dataframe tbody tr th {\n",
       "        vertical-align: top;\n",
       "    }\n",
       "\n",
       "    .dataframe thead th {\n",
       "        text-align: right;\n",
       "    }\n",
       "</style>\n",
       "<table border=\"1\" class=\"dataframe\">\n",
       "  <thead>\n",
       "    <tr style=\"text-align: right;\">\n",
       "      <th></th>\n",
       "      <th>PLAYER_NAME</th>\n",
       "      <th>PTS</th>\n",
       "      <th>REB</th>\n",
       "      <th>AST</th>\n",
       "      <th>STL</th>\n",
       "      <th>BLK</th>\n",
       "      <th>FGA</th>\n",
       "      <th>FGM</th>\n",
       "      <th>FTA</th>\n",
       "      <th>FTM</th>\n",
       "      <th>TO</th>\n",
       "      <th>EFF</th>\n",
       "      <th>MVP</th>\n",
       "      <th>MVP Prob</th>\n",
       "    </tr>\n",
       "  </thead>\n",
       "  <tbody>\n",
       "    <tr>\n",
       "      <th>212</th>\n",
       "      <td>Giannis Antetokounmpo</td>\n",
       "      <td>29.789474</td>\n",
       "      <td>13.701754</td>\n",
       "      <td>5.684211</td>\n",
       "      <td>1.052632</td>\n",
       "      <td>1.070175</td>\n",
       "      <td>19.754386</td>\n",
       "      <td>11.000000</td>\n",
       "      <td>10.017544</td>\n",
       "      <td>6.315789</td>\n",
       "      <td>3.649123</td>\n",
       "      <td>35.192982</td>\n",
       "      <td>1</td>\n",
       "      <td>0.839138</td>\n",
       "    </tr>\n",
       "    <tr>\n",
       "      <th>263</th>\n",
       "      <td>James Harden</td>\n",
       "      <td>34.950820</td>\n",
       "      <td>6.311475</td>\n",
       "      <td>7.344262</td>\n",
       "      <td>1.721311</td>\n",
       "      <td>0.868852</td>\n",
       "      <td>22.819672</td>\n",
       "      <td>10.098361</td>\n",
       "      <td>11.819672</td>\n",
       "      <td>10.131148</td>\n",
       "      <td>4.377049</td>\n",
       "      <td>32.409836</td>\n",
       "      <td>0</td>\n",
       "      <td>0.095906</td>\n",
       "    </tr>\n",
       "    <tr>\n",
       "      <th>344</th>\n",
       "      <td>Karl-Anthony Towns</td>\n",
       "      <td>25.717949</td>\n",
       "      <td>10.384615</td>\n",
       "      <td>4.333333</td>\n",
       "      <td>0.974359</td>\n",
       "      <td>1.256410</td>\n",
       "      <td>17.205128</td>\n",
       "      <td>8.769231</td>\n",
       "      <td>6.179487</td>\n",
       "      <td>4.974359</td>\n",
       "      <td>3.076923</td>\n",
       "      <td>29.948718</td>\n",
       "      <td>0</td>\n",
       "      <td>0.011060</td>\n",
       "    </tr>\n",
       "    <tr>\n",
       "      <th>401</th>\n",
       "      <td>Luka Doncic</td>\n",
       "      <td>27.980769</td>\n",
       "      <td>9.442308</td>\n",
       "      <td>8.403846</td>\n",
       "      <td>1.038462</td>\n",
       "      <td>0.192308</td>\n",
       "      <td>19.788462</td>\n",
       "      <td>9.115385</td>\n",
       "      <td>8.980769</td>\n",
       "      <td>6.865385</td>\n",
       "      <td>4.346154</td>\n",
       "      <td>29.923077</td>\n",
       "      <td>0</td>\n",
       "      <td>0.033866</td>\n",
       "    </tr>\n",
       "    <tr>\n",
       "      <th>29</th>\n",
       "      <td>Anthony Davis</td>\n",
       "      <td>25.381818</td>\n",
       "      <td>9.181818</td>\n",
       "      <td>3.290909</td>\n",
       "      <td>1.454545</td>\n",
       "      <td>2.436364</td>\n",
       "      <td>17.363636</td>\n",
       "      <td>8.781818</td>\n",
       "      <td>8.072727</td>\n",
       "      <td>6.781818</td>\n",
       "      <td>2.418182</td>\n",
       "      <td>29.454545</td>\n",
       "      <td>0</td>\n",
       "      <td>0.006160</td>\n",
       "    </tr>\n",
       "    <tr>\n",
       "      <th>392</th>\n",
       "      <td>LeBron James</td>\n",
       "      <td>24.783333</td>\n",
       "      <td>7.566667</td>\n",
       "      <td>10.350000</td>\n",
       "      <td>1.200000</td>\n",
       "      <td>0.433333</td>\n",
       "      <td>19.016667</td>\n",
       "      <td>9.433333</td>\n",
       "      <td>5.433333</td>\n",
       "      <td>3.800000</td>\n",
       "      <td>3.900000</td>\n",
       "      <td>29.216667</td>\n",
       "      <td>0</td>\n",
       "      <td>0.005572</td>\n",
       "    </tr>\n",
       "    <tr>\n",
       "      <th>470</th>\n",
       "      <td>Nikola Jokic</td>\n",
       "      <td>20.253968</td>\n",
       "      <td>9.952381</td>\n",
       "      <td>6.603175</td>\n",
       "      <td>1.238095</td>\n",
       "      <td>0.666667</td>\n",
       "      <td>14.746032</td>\n",
       "      <td>7.888889</td>\n",
       "      <td>4.111111</td>\n",
       "      <td>3.349206</td>\n",
       "      <td>2.936508</td>\n",
       "      <td>28.158730</td>\n",
       "      <td>0</td>\n",
       "      <td>0.003333</td>\n",
       "    </tr>\n",
       "    <tr>\n",
       "      <th>107</th>\n",
       "      <td>Damian Lillard</td>\n",
       "      <td>28.807018</td>\n",
       "      <td>4.298246</td>\n",
       "      <td>7.701754</td>\n",
       "      <td>0.929825</td>\n",
       "      <td>0.350877</td>\n",
       "      <td>19.859649</td>\n",
       "      <td>9.157895</td>\n",
       "      <td>7.508772</td>\n",
       "      <td>6.684211</td>\n",
       "      <td>2.947368</td>\n",
       "      <td>27.614035</td>\n",
       "      <td>0</td>\n",
       "      <td>0.000651</td>\n",
       "    </tr>\n",
       "    <tr>\n",
       "      <th>347</th>\n",
       "      <td>Kawhi Leonard</td>\n",
       "      <td>26.326531</td>\n",
       "      <td>7.285714</td>\n",
       "      <td>5.122449</td>\n",
       "      <td>1.857143</td>\n",
       "      <td>0.591837</td>\n",
       "      <td>19.877551</td>\n",
       "      <td>9.163265</td>\n",
       "      <td>6.653061</td>\n",
       "      <td>5.959184</td>\n",
       "      <td>2.795918</td>\n",
       "      <td>26.979592</td>\n",
       "      <td>0</td>\n",
       "      <td>0.000286</td>\n",
       "    </tr>\n",
       "    <tr>\n",
       "      <th>298</th>\n",
       "      <td>Joel Embiid</td>\n",
       "      <td>22.978261</td>\n",
       "      <td>11.500000</td>\n",
       "      <td>3.000000</td>\n",
       "      <td>0.826087</td>\n",
       "      <td>1.326087</td>\n",
       "      <td>15.565217</td>\n",
       "      <td>7.391304</td>\n",
       "      <td>8.565217</td>\n",
       "      <td>6.978261</td>\n",
       "      <td>3.065217</td>\n",
       "      <td>26.804348</td>\n",
       "      <td>0</td>\n",
       "      <td>0.003250</td>\n",
       "    </tr>\n",
       "  </tbody>\n",
       "</table>\n",
       "</div>"
      ],
      "text/plain": [
       "               PLAYER_NAME        PTS        REB  ...        EFF  MVP  MVP Prob\n",
       "212  Giannis Antetokounmpo  29.789474  13.701754  ...  35.192982    1  0.839138\n",
       "263           James Harden  34.950820   6.311475  ...  32.409836    0  0.095906\n",
       "344     Karl-Anthony Towns  25.717949  10.384615  ...  29.948718    0  0.011060\n",
       "401            Luka Doncic  27.980769   9.442308  ...  29.923077    0  0.033866\n",
       "29           Anthony Davis  25.381818   9.181818  ...  29.454545    0  0.006160\n",
       "392           LeBron James  24.783333   7.566667  ...  29.216667    0  0.005572\n",
       "470           Nikola Jokic  20.253968   9.952381  ...  28.158730    0  0.003333\n",
       "107         Damian Lillard  28.807018   4.298246  ...  27.614035    0  0.000651\n",
       "347          Kawhi Leonard  26.326531   7.285714  ...  26.979592    0  0.000286\n",
       "298            Joel Embiid  22.978261  11.500000  ...  26.804348    0  0.003250\n",
       "\n",
       "[10 rows x 14 columns]"
      ]
     },
     "execution_count": 25,
     "metadata": {
      "tags": []
     },
     "output_type": "execute_result"
    }
   ],
   "source": [
    "#glm for mvp\n",
    "glm2 = LogisticRegression()\n",
    "glm2.fit(player18_mvp_candidate.iloc[:,1:12], player18_mvp_candidate['MVP'])\n",
    "\n",
    "#Fit in the model\n",
    "MVP1920_Cadidate=player_per.sort_values('EFF',ascending=False).head(10)\n",
    "mvp_glm_19 = glm2.predict(MVP1920_Cadidate.iloc[:,1:])\n",
    "\n",
    "#Fit in the model for prob prediction\n",
    "mvp_glm_prob = glm2.predict_proba(MVP1920_Cadidate.iloc[:,1:])[:,1]\n",
    "\n",
    "#Final data\n",
    "MVP1920_Cadidate['MVP'] = mvp_glm_19\n",
    "MVP1920_Cadidate['MVP Prob'] = mvp_glm_prob\n",
    "MVP1920_Cadidate"
   ]
  },
  {
   "cell_type": "code",
   "execution_count": 0,
   "metadata": {
    "colab": {
     "base_uri": "https://localhost:8080/",
     "height": 519
    },
    "colab_type": "code",
    "id": "utMW35JtBp7g",
    "outputId": "15b92919-94f8-4713-98f3-ed0ae22b0303"
   },
   "outputs": [
    {
     "data": {
      "image/png": "[encoded data removed]",
      "text/plain": [
       "<Figure size 720x432 with 1 Axes>"
      ]
     },
     "metadata": {
      "needs_background": "light",
      "tags": []
     },
     "output_type": "display_data"
    }
   ],
   "source": [
    "colors = ['grey' if (x < max(MVP1920_Cadidate['MVP Prob'])) else 'red' for x in MVP1920_Cadidate['MVP Prob'] ]\n",
    "plt.figure(figsize=(10,6))\n",
    "plt.bar(x=MVP1920_Cadidate['PLAYER_NAME'], height=MVP1920_Cadidate['MVP Prob'], color=colors)\n",
    "plt.ylabel('Probability of being an MVP')\n",
    "plt.title('MVP prediction', fontdict={'fontsize': 20, 'fontweight': 700, 'color': 'maroon'}, pad=20)\n",
    "plt.xticks(rotation='vertical');"
   ]
  },
  {
   "cell_type": "markdown",
   "metadata": {
    "colab_type": "text",
    "id": "9EKVbfRjJpB9"
   },
   "source": [
    "### Prediction of the champion team"
   ]
  },
  {
   "cell_type": "markdown",
   "metadata": {
    "colab_type": "text",
    "id": "l_I8HhNK2T5R"
   },
   "source": [
    "We will use same technique as above, using historical performance to predict which team has higher chance to be the champion of year 2020.\n",
    "\n"
   ]
  },
  {
   "cell_type": "code",
   "execution_count": 0,
   "metadata": {
    "colab": {},
    "colab_type": "code",
    "id": "1WE6xID5BDLM"
   },
   "outputs": [],
   "source": [
    "#Adding binary variables for champion team from 18-19 to 10-11\n",
    "stats_2018_pre['champion'] = np.array([0,0,0,0,0,0,0,0,0,0,0,0,0,0,0,0,0,0,0,0,0,0,0,0,1,0,0,0,0,0])\n",
    "stats_2017_pre['champion'] = np.array([0,0,0,0,0,0,0,1,0,0,0,0,0,0,0,0,0,0,0,0,0,0,0,0,0,0,0,0,0,0])\n",
    "stats_2016_pre['champion'] = np.array([0,0,0,0,0,0,0,1,0,0,0,0,0,0,0,0,0,0,0,0,0,0,0,0,0,0,0,0,0,0])\n",
    "stats_2015_pre['champion'] = np.array([0,0,1,0,0,0,0,0,0,0,0,0,0,0,0,0,0,0,0,0,0,0,0,0,0,0,0,0,0,0])\n",
    "stats_2014_pre['champion'] = np.array([0,0,0,0,0,0,0,1,0,0,0,0,0,0,0,0,0,0,0,0,0,0,0,0,0,0,0,0,0,0])\n",
    "stats_2013_pre['champion'] = np.array([0,0,0,0,0,0,0,0,0,0,0,0,0,0,0,0,0,0,0,0,0,0,1,0,0,0,0,0,0,0])\n",
    "stats_2012_pre['champion'] = np.array([0,0,0,0,0,0,0,0,0,0,0,1,0,0,0,0,0,0,0,0,0,0,0,0,0,0,0,0,0,0])\n",
    "stats_2011_pre['champion'] = np.array([0,0,0,0,0,0,0,0,0,0,0,1,0,0,0,0,0,0,0,0,0,0,0,0,0,0,0,0,0,0])\n",
    "stats_2010_pre['champion'] = np.array([0,0,0,0,0,1,0,0,0,0,0,0,0,0,0,0,0,0,0,0,0,0,0,0,0,0,0,0,0,0])\n",
    "\n",
    "stats_2019_chm = stats_2019_pre.iloc[:,:9]\n",
    "#Merge the data\n",
    "frames = [stats_2018_pre, stats_2017_pre, stats_2016_pre,stats_2015_pre,stats_2014_pre,stats_2013_pre,\n",
    "          stats_2012_pre, stats_2011_pre, stats_2010_pre]\n",
    "stats_18to10_chm = pd.concat(frames)\n",
    "stats_18to10_chm = stats_18to10_chm.iloc[:,np.r_[7,8,0:7,10]]\n",
    "\n",
    "#normalization\n",
    "from sklearn.preprocessing import minmax_scale\n",
    "stats_18to10_chm['PTS'] = minmax_scale(stats_18to10_chm['PTS'], feature_range=(0,1))\n",
    "stats_18to10_chm['AST'] = minmax_scale(stats_18to10_chm['AST'], feature_range=(0,1))\n",
    "stats_18to10_chm['REB'] = minmax_scale(stats_18to10_chm['REB'], feature_range=(0,1))"
   ]
  },
  {
   "cell_type": "markdown",
   "metadata": {
    "colab_type": "text",
    "id": "Jnj3sv63QgLw"
   },
   "source": [
    "Predicting using Logistic regression."
   ]
  },
  {
   "cell_type": "code",
   "execution_count": 0,
   "metadata": {
    "colab": {
     "base_uri": "https://localhost:8080/",
     "height": 52
    },
    "colab_type": "code",
    "id": "uIkutcd-sf9p",
    "outputId": "ea7356bb-f058-4d69-c943-10d51e816917"
   },
   "outputs": [
    {
     "name": "stdout",
     "output_type": "stream",
     "text": [
      "1414 items -- 74.81481481481481\n",
      "476 items -- 25.185185185185183\n"
     ]
    }
   ],
   "source": [
    "# Split data into train and test subsets \n",
    "X_train2, X_test2, y_train2, y_test2 = train_test_split(stats_18to10_chm.iloc[:,2:9], \n",
    "                                                        stats_18to10_chm['champion'], random_state=1234)  \n",
    "# Confirm the **75%–25% train-test split** \n",
    "print(X_train2.size, 'items --', X_train2.size/(X_train2.size + X_test2.size) * 100)\n",
    "print(X_test2.size, 'items --', X_test2.size/(X_train2.size + X_test2.size) * 100)"
   ]
  },
  {
   "cell_type": "code",
   "execution_count": 0,
   "metadata": {
    "colab": {
     "base_uri": "https://localhost:8080/",
     "height": 374
    },
    "colab_type": "code",
    "id": "cAe4GnuoJn5K",
    "outputId": "9a38539a-c5ae-4c03-fd62-a6341f794b54"
   },
   "outputs": [
    {
     "name": "stdout",
     "output_type": "stream",
     "text": [
      "Accuracy:  0.94118\n"
     ]
    },
    {
     "data": {
      "text/html": [
       "<div>\n",
       "<style scoped>\n",
       "    .dataframe tbody tr th:only-of-type {\n",
       "        vertical-align: middle;\n",
       "    }\n",
       "\n",
       "    .dataframe tbody tr th {\n",
       "        vertical-align: top;\n",
       "    }\n",
       "\n",
       "    .dataframe thead th {\n",
       "        text-align: right;\n",
       "    }\n",
       "</style>\n",
       "<table border=\"1\" class=\"dataframe\">\n",
       "  <thead>\n",
       "    <tr style=\"text-align: right;\">\n",
       "      <th></th>\n",
       "      <th>TEAM_ID</th>\n",
       "      <th>NICKNAME</th>\n",
       "      <th>PTS</th>\n",
       "      <th>FG_PCT</th>\n",
       "      <th>FT_PCT</th>\n",
       "      <th>FG3_PCT</th>\n",
       "      <th>AST</th>\n",
       "      <th>REB</th>\n",
       "      <th>WINRATE</th>\n",
       "      <th>prob</th>\n",
       "    </tr>\n",
       "  </thead>\n",
       "  <tbody>\n",
       "    <tr>\n",
       "      <th>12</th>\n",
       "      <td>1610612749</td>\n",
       "      <td>Bucks</td>\n",
       "      <td>1.000000</td>\n",
       "      <td>0.481650</td>\n",
       "      <td>0.737433</td>\n",
       "      <td>0.361800</td>\n",
       "      <td>0.876682</td>\n",
       "      <td>1.000000</td>\n",
       "      <td>0.866667</td>\n",
       "      <td>0.061722</td>\n",
       "    </tr>\n",
       "    <tr>\n",
       "      <th>10</th>\n",
       "      <td>1610612747</td>\n",
       "      <td>Lakers</td>\n",
       "      <td>0.711008</td>\n",
       "      <td>0.485518</td>\n",
       "      <td>0.727453</td>\n",
       "      <td>0.356680</td>\n",
       "      <td>0.869739</td>\n",
       "      <td>0.418119</td>\n",
       "      <td>0.778226</td>\n",
       "      <td>0.052451</td>\n",
       "    </tr>\n",
       "    <tr>\n",
       "      <th>6</th>\n",
       "      <td>1610612743</td>\n",
       "      <td>Nuggets</td>\n",
       "      <td>0.502552</td>\n",
       "      <td>0.471228</td>\n",
       "      <td>0.775151</td>\n",
       "      <td>0.355147</td>\n",
       "      <td>0.922754</td>\n",
       "      <td>0.246429</td>\n",
       "      <td>0.680200</td>\n",
       "      <td>0.046573</td>\n",
       "    </tr>\n",
       "    <tr>\n",
       "      <th>11</th>\n",
       "      <td>1610612748</td>\n",
       "      <td>Heat</td>\n",
       "      <td>0.620398</td>\n",
       "      <td>0.471900</td>\n",
       "      <td>0.774874</td>\n",
       "      <td>0.382430</td>\n",
       "      <td>0.830206</td>\n",
       "      <td>0.281765</td>\n",
       "      <td>0.640712</td>\n",
       "      <td>0.044039</td>\n",
       "    </tr>\n",
       "    <tr>\n",
       "      <th>24</th>\n",
       "      <td>1610612761</td>\n",
       "      <td>Raptors</td>\n",
       "      <td>0.600025</td>\n",
       "      <td>0.458647</td>\n",
       "      <td>0.795859</td>\n",
       "      <td>0.374205</td>\n",
       "      <td>0.772869</td>\n",
       "      <td>0.326750</td>\n",
       "      <td>0.698661</td>\n",
       "      <td>0.043667</td>\n",
       "    </tr>\n",
       "    <tr>\n",
       "      <th>3</th>\n",
       "      <td>1610612740</td>\n",
       "      <td>Pelicans</td>\n",
       "      <td>0.784936</td>\n",
       "      <td>0.463683</td>\n",
       "      <td>0.731783</td>\n",
       "      <td>0.374100</td>\n",
       "      <td>0.958251</td>\n",
       "      <td>0.475433</td>\n",
       "      <td>0.433333</td>\n",
       "      <td>0.042845</td>\n",
       "    </tr>\n",
       "    <tr>\n",
       "      <th>26</th>\n",
       "      <td>1610612763</td>\n",
       "      <td>Grizzlies</td>\n",
       "      <td>0.591310</td>\n",
       "      <td>0.471173</td>\n",
       "      <td>0.763173</td>\n",
       "      <td>0.345774</td>\n",
       "      <td>0.998192</td>\n",
       "      <td>0.417565</td>\n",
       "      <td>0.481090</td>\n",
       "      <td>0.042531</td>\n",
       "    </tr>\n",
       "    <tr>\n",
       "      <th>17</th>\n",
       "      <td>1610612754</td>\n",
       "      <td>Pacers</td>\n",
       "      <td>0.413319</td>\n",
       "      <td>0.477674</td>\n",
       "      <td>0.779670</td>\n",
       "      <td>0.362438</td>\n",
       "      <td>0.877024</td>\n",
       "      <td>0.082687</td>\n",
       "      <td>0.597330</td>\n",
       "      <td>0.040727</td>\n",
       "    </tr>\n",
       "    <tr>\n",
       "      <th>19</th>\n",
       "      <td>1610612756</td>\n",
       "      <td>Suns</td>\n",
       "      <td>0.563848</td>\n",
       "      <td>0.464226</td>\n",
       "      <td>0.817769</td>\n",
       "      <td>0.348491</td>\n",
       "      <td>1.000000</td>\n",
       "      <td>0.115791</td>\n",
       "      <td>0.396013</td>\n",
       "      <td>0.040347</td>\n",
       "    </tr>\n",
       "    <tr>\n",
       "      <th>9</th>\n",
       "      <td>1610612746</td>\n",
       "      <td>Clippers</td>\n",
       "      <td>0.804136</td>\n",
       "      <td>0.465903</td>\n",
       "      <td>0.790259</td>\n",
       "      <td>0.367691</td>\n",
       "      <td>0.576594</td>\n",
       "      <td>0.584352</td>\n",
       "      <td>0.679088</td>\n",
       "      <td>0.039284</td>\n",
       "    </tr>\n",
       "  </tbody>\n",
       "</table>\n",
       "</div>"
      ],
      "text/plain": [
       "       TEAM_ID   NICKNAME       PTS  ...       REB   WINRATE      prob\n",
       "12  1610612749      Bucks  1.000000  ...  1.000000  0.866667  0.061722\n",
       "10  1610612747     Lakers  0.711008  ...  0.418119  0.778226  0.052451\n",
       "6   1610612743    Nuggets  0.502552  ...  0.246429  0.680200  0.046573\n",
       "11  1610612748       Heat  0.620398  ...  0.281765  0.640712  0.044039\n",
       "24  1610612761    Raptors  0.600025  ...  0.326750  0.698661  0.043667\n",
       "3   1610612740   Pelicans  0.784936  ...  0.475433  0.433333  0.042845\n",
       "26  1610612763  Grizzlies  0.591310  ...  0.417565  0.481090  0.042531\n",
       "17  1610612754     Pacers  0.413319  ...  0.082687  0.597330  0.040727\n",
       "19  1610612756       Suns  0.563848  ...  0.115791  0.396013  0.040347\n",
       "9   1610612746   Clippers  0.804136  ...  0.584352  0.679088  0.039284\n",
       "\n",
       "[10 rows x 10 columns]"
      ]
     },
     "execution_count": 29,
     "metadata": {
      "tags": []
     },
     "output_type": "execute_result"
    }
   ],
   "source": [
    "#logistic regression\n",
    "glm3 = LogisticRegression()\n",
    "glm3.fit(X_train2, y=y_train2)\n",
    "#glm prediction\n",
    "expected = y_test2\n",
    "predicted2 = glm3.predict(X_test2)\n",
    "#check model accuracy\n",
    "score2 = glm3.score(X_test2, y_test2)\n",
    "print('Accuracy: ', round(score2,5))\n",
    "\n",
    "#show the y=1 probability\n",
    "glm3_prob = glm3.predict_proba(stats_2019_chm.iloc[:,2:9])[:,1]\n",
    "stats_2019_chm['prob']= glm3_prob\n",
    "#display probability of team being champion \n",
    "stats_2019_chm.sort_values(by='prob',ascending=False).head(10)"
   ]
  },
  {
   "cell_type": "code",
   "execution_count": 0,
   "metadata": {
    "colab": {
     "base_uri": "https://localhost:8080/",
     "height": 457
    },
    "colab_type": "code",
    "id": "9eGWz-rI9Rd1",
    "outputId": "84ca6a51-bbf5-4e53-8e73-c8379cd4f1e9"
   },
   "outputs": [
    {
     "data": {
      "image/png": "[encoded data removed]",
      "text/plain": [
       "<Figure size 1080x432 with 1 Axes>"
      ]
     },
     "metadata": {
      "needs_background": "light",
      "tags": []
     },
     "output_type": "display_data"
    }
   ],
   "source": [
    "colors = ['grey' if (x < max(stats_2019_chm['prob'])) else 'red' for x in stats_2019_chm['prob'] ]\n",
    "plt.figure(figsize=(15,6))\n",
    "plt.bar(x=stats_2019_chm['NICKNAME'], height=stats_2019_chm['prob'], color=colors)\n",
    "plt.ylabel('Probability of champion')\n",
    "plt.title('Champion prediction', fontdict={'fontsize': 20, 'fontweight': 700, 'color': 'maroon'}, pad=20)\n",
    "plt.xticks(rotation='vertical');"
   ]
  },
  {
   "cell_type": "markdown",
   "metadata": {
    "colab_type": "text",
    "id": "TVojQ6bt5idb"
   },
   "source": [
    "### Prediction of the rookie of the year"
   ]
  },
  {
   "cell_type": "code",
   "execution_count": 0,
   "metadata": {
    "colab": {},
    "colab_type": "code",
    "id": "vhRZOi-D5lVO"
   },
   "outputs": [],
   "source": [
    "#Prepare data\n",
    "player_list=['Zion Williamson','RJ Barrett','Ja Morant','Rui Hachimura','Cameron Reddish','KZ Okpala','Bruno Fernando','Jarret Culver','Nickeil Alexander-Walker'\n",
    "              ,'Keldon Johnson','Nassir Little','Romeo Langford','Sekou Doumbouya','Darius Garland',\"De'Andre Hunter\",'Daniel Gafford','Bol Bol','Jaxson Hayes'\n",
    "              ,'Michael Porter Jr.','Coby White','PJ Washington','Tyler Herro','Goga Bitzdze','Kevin Porter','Mifiondu Kabengele','Matt Thomas','Bardon Clarke',\n",
    "             'Carsen Edwards','Grant Williams','Kendrick Nunn','Ty Jerome','Kyle Guy','Matisse Thybulle','Eric Paschall']\n",
    "rookie_list = player_per[player_per['PLAYER_NAME'].isin(player_list)]"
   ]
  },
  {
   "cell_type": "markdown",
   "metadata": {
    "colab_type": "text",
    "id": "3FgSzhG0RW-6"
   },
   "source": [
    "Predicting using the EFF as measurement."
   ]
  },
  {
   "cell_type": "code",
   "execution_count": 0,
   "metadata": {
    "colab": {
     "base_uri": "https://localhost:8080/",
     "height": 141
    },
    "colab_type": "code",
    "id": "6HlrkQPN8cnW",
    "outputId": "05b1a6aa-5684-4911-96a0-7f93be1784d7"
   },
   "outputs": [
    {
     "data": {
      "text/html": [
       "<div>\n",
       "<style scoped>\n",
       "    .dataframe tbody tr th:only-of-type {\n",
       "        vertical-align: middle;\n",
       "    }\n",
       "\n",
       "    .dataframe tbody tr th {\n",
       "        vertical-align: top;\n",
       "    }\n",
       "\n",
       "    .dataframe thead th {\n",
       "        text-align: right;\n",
       "    }\n",
       "</style>\n",
       "<table border=\"1\" class=\"dataframe\">\n",
       "  <thead>\n",
       "    <tr style=\"text-align: right;\">\n",
       "      <th></th>\n",
       "      <th>PLAYER_NAME</th>\n",
       "      <th>EFF</th>\n",
       "    </tr>\n",
       "  </thead>\n",
       "  <tbody>\n",
       "    <tr>\n",
       "      <th>0</th>\n",
       "      <td>Zion Williamson</td>\n",
       "      <td>22.789474</td>\n",
       "    </tr>\n",
       "    <tr>\n",
       "      <th>1</th>\n",
       "      <td>Ja Morant</td>\n",
       "      <td>17.964286</td>\n",
       "    </tr>\n",
       "    <tr>\n",
       "      <th>2</th>\n",
       "      <td>Rui Hachimura</td>\n",
       "      <td>14.641026</td>\n",
       "    </tr>\n",
       "  </tbody>\n",
       "</table>\n",
       "</div>"
      ],
      "text/plain": [
       "       PLAYER_NAME        EFF\n",
       "0  Zion Williamson  22.789474\n",
       "1        Ja Morant  17.964286\n",
       "2    Rui Hachimura  14.641026"
      ]
     },
     "execution_count": 32,
     "metadata": {
      "tags": []
     },
     "output_type": "execute_result"
    }
   ],
   "source": [
    "#Simply predict the rookie of the year by EFF ranking\n",
    "rookie_list.sort_values('EFF', ascending=False).head(3).reset_index(drop=True)[['PLAYER_NAME','EFF']]"
   ]
  }
 ],
 "metadata": {
  "colab": {
   "collapsed_sections": [],
   "name": "Project Report_Group 20 (Lucasports).ipynb",
   "provenance": [],
   "toc_visible": true
  },
  "kernelspec": {
   "display_name": "Python 3",
   "language": "python",
   "name": "python3"
  },
  "language_info": {
   "codemirror_mode": {
    "name": "ipython",
    "version": 3
   },
   "file_extension": ".py",
   "mimetype": "text/x-python",
   "name": "python",
   "nbconvert_exporter": "python",
   "pygments_lexer": "ipython3",
   "version": "3.7.3"
  }
 },
 "nbformat": 4,
 "nbformat_minor": 1
}
